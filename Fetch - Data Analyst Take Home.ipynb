{
 "cells": [
  {
   "cell_type": "markdown",
   "id": "8bae7975",
   "metadata": {},
   "source": [
    "# First: Explore the data"
   ]
  },
  {
   "cell_type": "code",
   "execution_count": 88,
   "id": "177912ca",
   "metadata": {},
   "outputs": [],
   "source": [
    "# Importing required libraries\n",
    "\n",
    "import pandas as pd\n",
    "import matplotlib.pyplot as plt\n",
    "import seaborn as sns"
   ]
  },
  {
   "cell_type": "code",
   "execution_count": 127,
   "id": "b498afd6",
   "metadata": {},
   "outputs": [],
   "source": [
    "pd.set_option(\"display.max_rows\", None)  # Showing all rows\n",
    "pd.set_option(\"display.max_columns\", None)  # Showing all columns"
   ]
  },
  {
   "cell_type": "markdown",
   "id": "46c66980",
   "metadata": {},
   "source": [
    "# Users Dataset"
   ]
  },
  {
   "cell_type": "code",
   "execution_count": 128,
   "id": "5bc749d5",
   "metadata": {},
   "outputs": [],
   "source": [
    "users_df = pd.read_csv(\"/Users/akhilnashaboina/Documents/Fetch/Data Sets/USER_TAKEHOME.csv\") # Loading the dataset"
   ]
  },
  {
   "cell_type": "code",
   "execution_count": 129,
   "id": "4e003ae0",
   "metadata": {
    "scrolled": true
   },
   "outputs": [
    {
     "data": {
      "text/html": [
       "<div>\n",
       "<style scoped>\n",
       "    .dataframe tbody tr th:only-of-type {\n",
       "        vertical-align: middle;\n",
       "    }\n",
       "\n",
       "    .dataframe tbody tr th {\n",
       "        vertical-align: top;\n",
       "    }\n",
       "\n",
       "    .dataframe thead th {\n",
       "        text-align: right;\n",
       "    }\n",
       "</style>\n",
       "<table border=\"1\" class=\"dataframe\">\n",
       "  <thead>\n",
       "    <tr style=\"text-align: right;\">\n",
       "      <th></th>\n",
       "      <th>ID</th>\n",
       "      <th>CREATED_DATE</th>\n",
       "      <th>BIRTH_DATE</th>\n",
       "      <th>STATE</th>\n",
       "      <th>LANGUAGE</th>\n",
       "      <th>GENDER</th>\n",
       "    </tr>\n",
       "  </thead>\n",
       "  <tbody>\n",
       "    <tr>\n",
       "      <th>0</th>\n",
       "      <td>5ef3b4f17053ab141787697d</td>\n",
       "      <td>2020-06-24 20:17:54.000 Z</td>\n",
       "      <td>2000-08-11 00:00:00.000 Z</td>\n",
       "      <td>CA</td>\n",
       "      <td>es-419</td>\n",
       "      <td>female</td>\n",
       "    </tr>\n",
       "    <tr>\n",
       "      <th>1</th>\n",
       "      <td>5ff220d383fcfc12622b96bc</td>\n",
       "      <td>2021-01-03 19:53:55.000 Z</td>\n",
       "      <td>2001-09-24 04:00:00.000 Z</td>\n",
       "      <td>PA</td>\n",
       "      <td>en</td>\n",
       "      <td>female</td>\n",
       "    </tr>\n",
       "    <tr>\n",
       "      <th>2</th>\n",
       "      <td>6477950aa55bb77a0e27ee10</td>\n",
       "      <td>2023-05-31 18:42:18.000 Z</td>\n",
       "      <td>1994-10-28 00:00:00.000 Z</td>\n",
       "      <td>FL</td>\n",
       "      <td>es-419</td>\n",
       "      <td>female</td>\n",
       "    </tr>\n",
       "    <tr>\n",
       "      <th>3</th>\n",
       "      <td>658a306e99b40f103b63ccf8</td>\n",
       "      <td>2023-12-26 01:46:22.000 Z</td>\n",
       "      <td>NaN</td>\n",
       "      <td>NC</td>\n",
       "      <td>en</td>\n",
       "      <td>NaN</td>\n",
       "    </tr>\n",
       "    <tr>\n",
       "      <th>4</th>\n",
       "      <td>653cf5d6a225ea102b7ecdc2</td>\n",
       "      <td>2023-10-28 11:51:50.000 Z</td>\n",
       "      <td>1972-03-19 00:00:00.000 Z</td>\n",
       "      <td>PA</td>\n",
       "      <td>en</td>\n",
       "      <td>female</td>\n",
       "    </tr>\n",
       "  </tbody>\n",
       "</table>\n",
       "</div>"
      ],
      "text/plain": [
       "                         ID               CREATED_DATE  \\\n",
       "0  5ef3b4f17053ab141787697d  2020-06-24 20:17:54.000 Z   \n",
       "1  5ff220d383fcfc12622b96bc  2021-01-03 19:53:55.000 Z   \n",
       "2  6477950aa55bb77a0e27ee10  2023-05-31 18:42:18.000 Z   \n",
       "3  658a306e99b40f103b63ccf8  2023-12-26 01:46:22.000 Z   \n",
       "4  653cf5d6a225ea102b7ecdc2  2023-10-28 11:51:50.000 Z   \n",
       "\n",
       "                  BIRTH_DATE STATE LANGUAGE  GENDER  \n",
       "0  2000-08-11 00:00:00.000 Z    CA   es-419  female  \n",
       "1  2001-09-24 04:00:00.000 Z    PA       en  female  \n",
       "2  1994-10-28 00:00:00.000 Z    FL   es-419  female  \n",
       "3                        NaN    NC       en     NaN  \n",
       "4  1972-03-19 00:00:00.000 Z    PA       en  female  "
      ]
     },
     "execution_count": 129,
     "metadata": {},
     "output_type": "execute_result"
    }
   ],
   "source": [
    "users_df.head() # Displaying the first 5 rows"
   ]
  },
  {
   "cell_type": "code",
   "execution_count": 130,
   "id": "43b5ee17",
   "metadata": {},
   "outputs": [
    {
     "data": {
      "text/plain": [
       "(100000, 6)"
      ]
     },
     "execution_count": 130,
     "metadata": {},
     "output_type": "execute_result"
    }
   ],
   "source": [
    "users_df.shape # Checking total rows and columns"
   ]
  },
  {
   "cell_type": "markdown",
   "id": "93e22ba4",
   "metadata": {},
   "source": [
    "### Checking Basic Information"
   ]
  },
  {
   "cell_type": "code",
   "execution_count": 131,
   "id": "f9b86561",
   "metadata": {
    "scrolled": false
   },
   "outputs": [
    {
     "name": "stdout",
     "output_type": "stream",
     "text": [
      "<class 'pandas.core.frame.DataFrame'>\n",
      "RangeIndex: 100000 entries, 0 to 99999\n",
      "Data columns (total 6 columns):\n",
      " #   Column        Non-Null Count   Dtype \n",
      "---  ------        --------------   ----- \n",
      " 0   ID            100000 non-null  object\n",
      " 1   CREATED_DATE  100000 non-null  object\n",
      " 2   BIRTH_DATE    96325 non-null   object\n",
      " 3   STATE         95188 non-null   object\n",
      " 4   LANGUAGE      69492 non-null   object\n",
      " 5   GENDER        94108 non-null   object\n",
      "dtypes: object(6)\n",
      "memory usage: 4.6+ MB\n"
     ]
    }
   ],
   "source": [
    "users_df.info() # Checking dataset information"
   ]
  },
  {
   "cell_type": "markdown",
   "id": "65a0ec49",
   "metadata": {},
   "source": [
    "### Checking for Duplicate Users"
   ]
  },
  {
   "cell_type": "code",
   "execution_count": 132,
   "id": "872a28f1",
   "metadata": {},
   "outputs": [
    {
     "data": {
      "text/plain": [
       "0"
      ]
     },
     "execution_count": 132,
     "metadata": {},
     "output_type": "execute_result"
    }
   ],
   "source": [
    "users_df.duplicated(subset=['ID']).sum() # Checking for duplicate user ID's"
   ]
  },
  {
   "cell_type": "markdown",
   "id": "74dbf3b3",
   "metadata": {},
   "source": [
    "### Analyzing Categorical Columns"
   ]
  },
  {
   "cell_type": "code",
   "execution_count": 133,
   "id": "89e610f7",
   "metadata": {},
   "outputs": [
    {
     "data": {
      "text/plain": [
       "ID              object\n",
       "CREATED_DATE    object\n",
       "BIRTH_DATE      object\n",
       "STATE           object\n",
       "LANGUAGE        object\n",
       "GENDER          object\n",
       "dtype: object"
      ]
     },
     "execution_count": 133,
     "metadata": {},
     "output_type": "execute_result"
    }
   ],
   "source": [
    "users_df.dtypes # Checking data types of columns"
   ]
  },
  {
   "cell_type": "code",
   "execution_count": 134,
   "id": "a11667a1",
   "metadata": {},
   "outputs": [
    {
     "data": {
      "text/plain": [
       "52"
      ]
     },
     "execution_count": 134,
     "metadata": {},
     "output_type": "execute_result"
    }
   ],
   "source": [
    "users_df['STATE'].nunique() # Checking how many STATES are there"
   ]
  },
  {
   "cell_type": "code",
   "execution_count": 135,
   "id": "8405d7d6",
   "metadata": {},
   "outputs": [
    {
     "data": {
      "text/plain": [
       "array(['CA', 'PA', 'FL', 'NC', 'NY', 'IN', nan, 'OH', 'TX', 'NM', 'PR',\n",
       "       'CO', 'AZ', 'RI', 'MO', 'NJ', 'MA', 'TN', 'LA', 'NH', 'WI', 'IA',\n",
       "       'GA', 'VA', 'DC', 'KY', 'SC', 'MN', 'WV', 'DE', 'MI', 'IL', 'MS',\n",
       "       'WA', 'KS', 'CT', 'OR', 'UT', 'MD', 'OK', 'NE', 'NV', 'AL', 'AK',\n",
       "       'AR', 'HI', 'ME', 'ND', 'ID', 'WY', 'MT', 'SD', 'VT'], dtype=object)"
      ]
     },
     "execution_count": 135,
     "metadata": {},
     "output_type": "execute_result"
    }
   ],
   "source": [
    "users_df['STATE'].unique() # Total STATES"
   ]
  },
  {
   "cell_type": "code",
   "execution_count": 136,
   "id": "ecb68170",
   "metadata": {
    "scrolled": true
   },
   "outputs": [
    {
     "data": {
      "text/plain": [
       "2"
      ]
     },
     "execution_count": 136,
     "metadata": {},
     "output_type": "execute_result"
    }
   ],
   "source": [
    "users_df['LANGUAGE'].nunique() # Checking how many LANGUAGES are there"
   ]
  },
  {
   "cell_type": "code",
   "execution_count": 137,
   "id": "901ead43",
   "metadata": {},
   "outputs": [
    {
     "data": {
      "text/plain": [
       "array(['es-419', 'en', nan], dtype=object)"
      ]
     },
     "execution_count": 137,
     "metadata": {},
     "output_type": "execute_result"
    }
   ],
   "source": [
    "users_df['LANGUAGE'].unique() # Total LANGUAGES"
   ]
  },
  {
   "cell_type": "code",
   "execution_count": 138,
   "id": "edce4bd0",
   "metadata": {},
   "outputs": [
    {
     "data": {
      "text/plain": [
       "11"
      ]
     },
     "execution_count": 138,
     "metadata": {},
     "output_type": "execute_result"
    }
   ],
   "source": [
    "users_df['GENDER'].nunique() # Checking how many GENDERS are there"
   ]
  },
  {
   "cell_type": "code",
   "execution_count": 139,
   "id": "440e250f",
   "metadata": {},
   "outputs": [
    {
     "data": {
      "text/plain": [
       "array(['female', nan, 'male', 'non_binary', 'transgender',\n",
       "       'prefer_not_to_say', 'not_listed', 'Non-Binary', 'unknown',\n",
       "       'not_specified', \"My gender isn't listed\", 'Prefer not to say'],\n",
       "      dtype=object)"
      ]
     },
     "execution_count": 139,
     "metadata": {},
     "output_type": "execute_result"
    }
   ],
   "source": [
    "users_df['GENDER'].unique() # Total GENDERS"
   ]
  },
  {
   "cell_type": "code",
   "execution_count": 140,
   "id": "cc3822b4",
   "metadata": {
    "scrolled": true
   },
   "outputs": [
    {
     "data": {
      "text/html": [
       "<div>\n",
       "<style scoped>\n",
       "    .dataframe tbody tr th:only-of-type {\n",
       "        vertical-align: middle;\n",
       "    }\n",
       "\n",
       "    .dataframe tbody tr th {\n",
       "        vertical-align: top;\n",
       "    }\n",
       "\n",
       "    .dataframe thead th {\n",
       "        text-align: right;\n",
       "    }\n",
       "</style>\n",
       "<table border=\"1\" class=\"dataframe\">\n",
       "  <thead>\n",
       "    <tr style=\"text-align: right;\">\n",
       "      <th></th>\n",
       "      <th>ID</th>\n",
       "      <th>CREATED_DATE</th>\n",
       "      <th>BIRTH_DATE</th>\n",
       "      <th>STATE</th>\n",
       "      <th>LANGUAGE</th>\n",
       "      <th>GENDER</th>\n",
       "    </tr>\n",
       "  </thead>\n",
       "  <tbody>\n",
       "    <tr>\n",
       "      <th>count</th>\n",
       "      <td>100000</td>\n",
       "      <td>100000</td>\n",
       "      <td>96325</td>\n",
       "      <td>95188</td>\n",
       "      <td>69492</td>\n",
       "      <td>94108</td>\n",
       "    </tr>\n",
       "    <tr>\n",
       "      <th>unique</th>\n",
       "      <td>100000</td>\n",
       "      <td>99942</td>\n",
       "      <td>54721</td>\n",
       "      <td>52</td>\n",
       "      <td>2</td>\n",
       "      <td>11</td>\n",
       "    </tr>\n",
       "    <tr>\n",
       "      <th>top</th>\n",
       "      <td>5ef3b4f17053ab141787697d</td>\n",
       "      <td>2023-01-12 18:30:15.000 Z</td>\n",
       "      <td>1970-01-01 00:00:00.000 Z</td>\n",
       "      <td>TX</td>\n",
       "      <td>en</td>\n",
       "      <td>female</td>\n",
       "    </tr>\n",
       "    <tr>\n",
       "      <th>freq</th>\n",
       "      <td>1</td>\n",
       "      <td>2</td>\n",
       "      <td>1272</td>\n",
       "      <td>9028</td>\n",
       "      <td>63403</td>\n",
       "      <td>64240</td>\n",
       "    </tr>\n",
       "  </tbody>\n",
       "</table>\n",
       "</div>"
      ],
      "text/plain": [
       "                              ID               CREATED_DATE  \\\n",
       "count                     100000                     100000   \n",
       "unique                    100000                      99942   \n",
       "top     5ef3b4f17053ab141787697d  2023-01-12 18:30:15.000 Z   \n",
       "freq                           1                          2   \n",
       "\n",
       "                       BIRTH_DATE  STATE LANGUAGE  GENDER  \n",
       "count                       96325  95188    69492   94108  \n",
       "unique                      54721     52        2      11  \n",
       "top     1970-01-01 00:00:00.000 Z     TX       en  female  \n",
       "freq                         1272   9028    63403   64240  "
      ]
     },
     "execution_count": 140,
     "metadata": {},
     "output_type": "execute_result"
    }
   ],
   "source": [
    "users_df.describe() # Checking the summary statistics"
   ]
  },
  {
   "cell_type": "markdown",
   "id": "a47574c5",
   "metadata": {},
   "source": [
    "### Checking for Missing Values"
   ]
  },
  {
   "cell_type": "code",
   "execution_count": 141,
   "id": "eb2009da",
   "metadata": {
    "scrolled": false
   },
   "outputs": [
    {
     "data": {
      "text/plain": [
       "ID                  0\n",
       "CREATED_DATE        0\n",
       "BIRTH_DATE       3675\n",
       "STATE            4812\n",
       "LANGUAGE        30508\n",
       "GENDER           5892\n",
       "dtype: int64"
      ]
     },
     "execution_count": 141,
     "metadata": {},
     "output_type": "execute_result"
    }
   ],
   "source": [
    "users_df.isnull().sum() # Checking for missing values"
   ]
  },
  {
   "cell_type": "code",
   "execution_count": 142,
   "id": "f87b645e",
   "metadata": {},
   "outputs": [
    {
     "data": {
      "image/png": "[encoded data removed]",
      "text/plain": [
       "<Figure size 800x400 with 1 Axes>"
      ]
     },
     "metadata": {},
     "output_type": "display_data"
    }
   ],
   "source": [
    "plt.figure(figsize=(8, 4))\n",
    "sns.barplot(x=missing_values.index, y=missing_values.values, palette=\"viridis\")\n",
    "plt.xticks(rotation=45)\n",
    "plt.xlabel(\"Missing Columns\")\n",
    "plt.ylabel(\"Count of Missing Values\")\n",
    "plt.title(\"Missing Values in User Dataset\")\n",
    "plt.show()"
   ]
  },
  {
   "cell_type": "markdown",
   "id": "0fe9b9c5",
   "metadata": {},
   "source": [
    "### Handling Missing values in STATE column"
   ]
  },
  {
   "cell_type": "code",
   "execution_count": 143,
   "id": "2a1d09ff",
   "metadata": {},
   "outputs": [
    {
     "name": "stdout",
     "output_type": "stream",
     "text": [
      "['CA' 'PA' 'FL' 'NC' 'NY' 'IN' 'Unknown' 'OH' 'TX' 'NM' 'PR' 'CO' 'AZ'\n",
      " 'RI' 'MO' 'NJ' 'MA' 'TN' 'LA' 'NH' 'WI' 'IA' 'GA' 'VA' 'DC' 'KY' 'SC'\n",
      " 'MN' 'WV' 'DE' 'MI' 'IL' 'MS' 'WA' 'KS' 'CT' 'OR' 'UT' 'MD' 'OK' 'NE'\n",
      " 'NV' 'AL' 'AK' 'AR' 'HI' 'ME' 'ND' 'ID' 'WY' 'MT' 'SD' 'VT']\n"
     ]
    }
   ],
   "source": [
    "users_df['STATE'] = users_df['STATE'].fillna('Unknown')  # Fill missing values\n",
    "print(users_df['STATE'].unique())  # Check unique states"
   ]
  },
  {
   "cell_type": "code",
   "execution_count": 144,
   "id": "94c27951",
   "metadata": {},
   "outputs": [
    {
     "data": {
      "text/plain": [
       "ID                  0\n",
       "CREATED_DATE        0\n",
       "BIRTH_DATE       3675\n",
       "STATE               0\n",
       "LANGUAGE        30508\n",
       "GENDER           5892\n",
       "dtype: int64"
      ]
     },
     "execution_count": 144,
     "metadata": {},
     "output_type": "execute_result"
    }
   ],
   "source": [
    "users_df.isnull().sum() # Checking for missing values"
   ]
  },
  {
   "cell_type": "markdown",
   "id": "1617595d",
   "metadata": {},
   "source": [
    "### Handling Missing values in LANGUAGE column"
   ]
  },
  {
   "cell_type": "code",
   "execution_count": 145,
   "id": "57472429",
   "metadata": {},
   "outputs": [],
   "source": [
    "users_df['LANGUAGE'].fillna('en', inplace=True) # Filling missing language values with 'en' (assuming English is the default)"
   ]
  },
  {
   "cell_type": "code",
   "execution_count": 146,
   "id": "596c405f",
   "metadata": {
    "scrolled": true
   },
   "outputs": [
    {
     "data": {
      "text/plain": [
       "ID                 0\n",
       "CREATED_DATE       0\n",
       "BIRTH_DATE      3675\n",
       "STATE              0\n",
       "LANGUAGE           0\n",
       "GENDER          5892\n",
       "dtype: int64"
      ]
     },
     "execution_count": 146,
     "metadata": {},
     "output_type": "execute_result"
    }
   ],
   "source": [
    "users_df.isnull().sum() # Checking for missing values"
   ]
  },
  {
   "cell_type": "markdown",
   "id": "50bfbd35",
   "metadata": {},
   "source": [
    "### Mapping the GENDER column"
   ]
  },
  {
   "cell_type": "code",
   "execution_count": 147,
   "id": "668888cf",
   "metadata": {},
   "outputs": [
    {
     "name": "stdout",
     "output_type": "stream",
     "text": [
      "Unique gender values after cleaning: ['female' nan 'male' 'non-binary' 'transgender' 'prefer not to say'\n",
      " 'not specified']\n"
     ]
    }
   ],
   "source": [
    "# Converting gender to lowercase and replacing spaces with underscores\n",
    "users_df['GENDER'] = users_df['GENDER'].str.lower().str.replace(\" \", \"_\")\n",
    "\n",
    "# Mapping similar values to standardized categories\n",
    "gender_mapping = {\n",
    "    \"non_binary\": \"non-binary\",\n",
    "    \"prefer_not_to_say\": \"prefer not to say\",\n",
    "    \"not_listed\": \"not specified\",\n",
    "    \"not_specified\": \"not specified\",\n",
    "    \"my_gender_isn't_listed\": \"not specified\",\n",
    "    \"unknown\": \"not specified\"\n",
    "}\n",
    "\n",
    "users_df['GENDER'] = users_df['GENDER'].replace(gender_mapping)\n",
    "\n",
    "# Verifying unique gender values after cleaning\n",
    "print(\"Unique gender values after cleaning:\", users_df['GENDER'].unique())"
   ]
  },
  {
   "cell_type": "code",
   "execution_count": 148,
   "id": "39222265",
   "metadata": {},
   "outputs": [
    {
     "data": {
      "text/plain": [
       "ID                 0\n",
       "CREATED_DATE       0\n",
       "BIRTH_DATE      3675\n",
       "STATE              0\n",
       "LANGUAGE           0\n",
       "GENDER          5892\n",
       "dtype: int64"
      ]
     },
     "execution_count": 148,
     "metadata": {},
     "output_type": "execute_result"
    }
   ],
   "source": [
    "users_df.isnull().sum() # Checking for missing values"
   ]
  },
  {
   "cell_type": "code",
   "execution_count": 149,
   "id": "e0f7e0fc",
   "metadata": {},
   "outputs": [
    {
     "data": {
      "text/plain": [
       "array(['female', nan, 'male', 'non-binary', 'transgender',\n",
       "       'prefer not to say', 'not specified'], dtype=object)"
      ]
     },
     "execution_count": 149,
     "metadata": {},
     "output_type": "execute_result"
    }
   ],
   "source": [
    "users_df['GENDER'].unique() #Checking unique GENDERS after cleaning"
   ]
  },
  {
   "cell_type": "code",
   "execution_count": 150,
   "id": "c2d6b7ca",
   "metadata": {},
   "outputs": [],
   "source": [
    "users_df.dropna(subset=['GENDER'], inplace = True) # Dropping the missing valuess in the GENDER column"
   ]
  },
  {
   "cell_type": "markdown",
   "id": "d4567191",
   "metadata": {},
   "source": [
    "### Visualizing Top 5 states by user count"
   ]
  },
  {
   "cell_type": "code",
   "execution_count": 154,
   "id": "b7f17596",
   "metadata": {
    "scrolled": true
   },
   "outputs": [
    {
     "data": {
      "image/png": "[encoded data removed]",
      "text/plain": [
       "<Figure size 1000x400 with 1 Axes>"
      ]
     },
     "metadata": {},
     "output_type": "display_data"
    }
   ],
   "source": [
    "top_states = users_df['STATE'].value_counts().head(5).index\n",
    "\n",
    "# Filter data for top 5 states\n",
    "filtered_df = users_df[users_df['STATE'].isin(top_states)]\n",
    "\n",
    "# Pivot data for stacking\n",
    "gender_state_data = filtered_df.groupby(['STATE', 'GENDER']).size().unstack()\n",
    "\n",
    "# Plot stacked bar chart\n",
    "gender_state_data.plot(kind='bar', stacked=True, figsize=(10, 4), colormap=\"coolwarm\")\n",
    "plt.xlabel(\"State\")\n",
    "plt.xticks(rotation=45)\n",
    "plt.ylabel(\"User Count\")\n",
    "plt.title(\"Gender Distribution Across Top 5 States\")\n",
    "plt.legend(title=\"Gender\")\n",
    "plt.show()"
   ]
  },
  {
   "cell_type": "code",
   "execution_count": 115,
   "id": "4d427111",
   "metadata": {
    "scrolled": false
   },
   "outputs": [
    {
     "data": {
      "text/plain": [
       "ID              0\n",
       "CREATED_DATE    0\n",
       "BIRTH_DATE      0\n",
       "STATE           0\n",
       "LANGUAGE        0\n",
       "GENDER          0\n",
       "dtype: int64"
      ]
     },
     "execution_count": 115,
     "metadata": {},
     "output_type": "execute_result"
    }
   ],
   "source": [
    "users_df.isnull().sum() # Checking for missing values"
   ]
  },
  {
   "cell_type": "code",
   "execution_count": 25,
   "id": "4bed37b9",
   "metadata": {},
   "outputs": [],
   "source": [
    "users_df.dropna(subset=['BIRTH_DATE'], inplace = True) # Dropping the missing valuess in the BIRTH_DATE column"
   ]
  },
  {
   "cell_type": "code",
   "execution_count": 26,
   "id": "bcca13d2",
   "metadata": {},
   "outputs": [
    {
     "data": {
      "text/plain": [
       "ID              0\n",
       "CREATED_DATE    0\n",
       "BIRTH_DATE      0\n",
       "STATE           0\n",
       "LANGUAGE        0\n",
       "GENDER          0\n",
       "dtype: int64"
      ]
     },
     "execution_count": 26,
     "metadata": {},
     "output_type": "execute_result"
    }
   ],
   "source": [
    "users_df.isnull().sum() # Checking for missing values"
   ]
  },
  {
   "cell_type": "code",
   "execution_count": 27,
   "id": "480f8fa6",
   "metadata": {
    "scrolled": true
   },
   "outputs": [
    {
     "data": {
      "text/html": [
       "<div>\n",
       "<style scoped>\n",
       "    .dataframe tbody tr th:only-of-type {\n",
       "        vertical-align: middle;\n",
       "    }\n",
       "\n",
       "    .dataframe tbody tr th {\n",
       "        vertical-align: top;\n",
       "    }\n",
       "\n",
       "    .dataframe thead th {\n",
       "        text-align: right;\n",
       "    }\n",
       "</style>\n",
       "<table border=\"1\" class=\"dataframe\">\n",
       "  <thead>\n",
       "    <tr style=\"text-align: right;\">\n",
       "      <th></th>\n",
       "      <th>ID</th>\n",
       "      <th>CREATED_DATE</th>\n",
       "      <th>BIRTH_DATE</th>\n",
       "      <th>STATE</th>\n",
       "      <th>LANGUAGE</th>\n",
       "      <th>GENDER</th>\n",
       "    </tr>\n",
       "  </thead>\n",
       "  <tbody>\n",
       "    <tr>\n",
       "      <th>0</th>\n",
       "      <td>5ef3b4f17053ab141787697d</td>\n",
       "      <td>2020-06-24 20:17:54.000 Z</td>\n",
       "      <td>2000-08-11 00:00:00.000 Z</td>\n",
       "      <td>CA</td>\n",
       "      <td>es-419</td>\n",
       "      <td>female</td>\n",
       "    </tr>\n",
       "    <tr>\n",
       "      <th>1</th>\n",
       "      <td>5ff220d383fcfc12622b96bc</td>\n",
       "      <td>2021-01-03 19:53:55.000 Z</td>\n",
       "      <td>2001-09-24 04:00:00.000 Z</td>\n",
       "      <td>PA</td>\n",
       "      <td>en</td>\n",
       "      <td>female</td>\n",
       "    </tr>\n",
       "    <tr>\n",
       "      <th>2</th>\n",
       "      <td>6477950aa55bb77a0e27ee10</td>\n",
       "      <td>2023-05-31 18:42:18.000 Z</td>\n",
       "      <td>1994-10-28 00:00:00.000 Z</td>\n",
       "      <td>FL</td>\n",
       "      <td>es-419</td>\n",
       "      <td>female</td>\n",
       "    </tr>\n",
       "    <tr>\n",
       "      <th>4</th>\n",
       "      <td>653cf5d6a225ea102b7ecdc2</td>\n",
       "      <td>2023-10-28 11:51:50.000 Z</td>\n",
       "      <td>1972-03-19 00:00:00.000 Z</td>\n",
       "      <td>PA</td>\n",
       "      <td>en</td>\n",
       "      <td>female</td>\n",
       "    </tr>\n",
       "    <tr>\n",
       "      <th>5</th>\n",
       "      <td>5fe2b6f3ad416a1265c4ab68</td>\n",
       "      <td>2020-12-23 03:18:11.000 Z</td>\n",
       "      <td>1999-10-27 04:00:00.000 Z</td>\n",
       "      <td>NY</td>\n",
       "      <td>en</td>\n",
       "      <td>female</td>\n",
       "    </tr>\n",
       "  </tbody>\n",
       "</table>\n",
       "</div>"
      ],
      "text/plain": [
       "                         ID               CREATED_DATE  \\\n",
       "0  5ef3b4f17053ab141787697d  2020-06-24 20:17:54.000 Z   \n",
       "1  5ff220d383fcfc12622b96bc  2021-01-03 19:53:55.000 Z   \n",
       "2  6477950aa55bb77a0e27ee10  2023-05-31 18:42:18.000 Z   \n",
       "4  653cf5d6a225ea102b7ecdc2  2023-10-28 11:51:50.000 Z   \n",
       "5  5fe2b6f3ad416a1265c4ab68  2020-12-23 03:18:11.000 Z   \n",
       "\n",
       "                  BIRTH_DATE STATE LANGUAGE  GENDER  \n",
       "0  2000-08-11 00:00:00.000 Z    CA   es-419  female  \n",
       "1  2001-09-24 04:00:00.000 Z    PA       en  female  \n",
       "2  1994-10-28 00:00:00.000 Z    FL   es-419  female  \n",
       "4  1972-03-19 00:00:00.000 Z    PA       en  female  \n",
       "5  1999-10-27 04:00:00.000 Z    NY       en  female  "
      ]
     },
     "execution_count": 27,
     "metadata": {},
     "output_type": "execute_result"
    }
   ],
   "source": [
    "users_df.head()"
   ]
  },
  {
   "cell_type": "markdown",
   "id": "f308c29e",
   "metadata": {},
   "source": [
    "### Handling Incorrect datatypes"
   ]
  },
  {
   "cell_type": "code",
   "execution_count": 28,
   "id": "9f88f236",
   "metadata": {},
   "outputs": [],
   "source": [
    "# Converting CREATED_DATE and BIRTH_DATE to datetime format\n",
    "\n",
    "users_df['CREATED_DATE'] = pd.to_datetime(users_df['CREATED_DATE'], errors='coerce')\n",
    "users_df['BIRTH_DATE'] = pd.to_datetime(users_df['BIRTH_DATE'], errors='coerce')"
   ]
  },
  {
   "cell_type": "code",
   "execution_count": 29,
   "id": "cc65b883",
   "metadata": {},
   "outputs": [
    {
     "data": {
      "text/plain": [
       "ID                           object\n",
       "CREATED_DATE    datetime64[ns, UTC]\n",
       "BIRTH_DATE      datetime64[ns, UTC]\n",
       "STATE                        object\n",
       "LANGUAGE                     object\n",
       "GENDER                       object\n",
       "dtype: object"
      ]
     },
     "execution_count": 29,
     "metadata": {},
     "output_type": "execute_result"
    }
   ],
   "source": [
    "users_df.dtypes"
   ]
  },
  {
   "cell_type": "markdown",
   "id": "710d47aa",
   "metadata": {},
   "source": [
    "### Standardizing Date Formats"
   ]
  },
  {
   "cell_type": "code",
   "execution_count": 30,
   "id": "406bb25c",
   "metadata": {},
   "outputs": [],
   "source": [
    "# Converting BIRTH_DATE to datetime format, handling errors safely\n",
    "users_df['BIRTH_DATE'] = pd.to_datetime(users_df['BIRTH_DATE'], errors='coerce', utc=True)\n",
    "\n",
    "# Removing timezone to prevent comparison issues\n",
    "users_df['BIRTH_DATE'] = users_df['BIRTH_DATE'].dt.tz_localize(None)"
   ]
  },
  {
   "cell_type": "code",
   "execution_count": 31,
   "id": "dbff1321",
   "metadata": {},
   "outputs": [
    {
     "data": {
      "text/html": [
       "<div>\n",
       "<style scoped>\n",
       "    .dataframe tbody tr th:only-of-type {\n",
       "        vertical-align: middle;\n",
       "    }\n",
       "\n",
       "    .dataframe tbody tr th {\n",
       "        vertical-align: top;\n",
       "    }\n",
       "\n",
       "    .dataframe thead th {\n",
       "        text-align: right;\n",
       "    }\n",
       "</style>\n",
       "<table border=\"1\" class=\"dataframe\">\n",
       "  <thead>\n",
       "    <tr style=\"text-align: right;\">\n",
       "      <th></th>\n",
       "      <th>ID</th>\n",
       "      <th>CREATED_DATE</th>\n",
       "      <th>BIRTH_DATE</th>\n",
       "      <th>STATE</th>\n",
       "      <th>LANGUAGE</th>\n",
       "      <th>GENDER</th>\n",
       "    </tr>\n",
       "  </thead>\n",
       "  <tbody>\n",
       "    <tr>\n",
       "      <th>0</th>\n",
       "      <td>5ef3b4f17053ab141787697d</td>\n",
       "      <td>2020-06-24 20:17:54+00:00</td>\n",
       "      <td>2000-08-11 00:00:00</td>\n",
       "      <td>CA</td>\n",
       "      <td>es-419</td>\n",
       "      <td>female</td>\n",
       "    </tr>\n",
       "    <tr>\n",
       "      <th>1</th>\n",
       "      <td>5ff220d383fcfc12622b96bc</td>\n",
       "      <td>2021-01-03 19:53:55+00:00</td>\n",
       "      <td>2001-09-24 04:00:00</td>\n",
       "      <td>PA</td>\n",
       "      <td>en</td>\n",
       "      <td>female</td>\n",
       "    </tr>\n",
       "    <tr>\n",
       "      <th>2</th>\n",
       "      <td>6477950aa55bb77a0e27ee10</td>\n",
       "      <td>2023-05-31 18:42:18+00:00</td>\n",
       "      <td>1994-10-28 00:00:00</td>\n",
       "      <td>FL</td>\n",
       "      <td>es-419</td>\n",
       "      <td>female</td>\n",
       "    </tr>\n",
       "    <tr>\n",
       "      <th>4</th>\n",
       "      <td>653cf5d6a225ea102b7ecdc2</td>\n",
       "      <td>2023-10-28 11:51:50+00:00</td>\n",
       "      <td>1972-03-19 00:00:00</td>\n",
       "      <td>PA</td>\n",
       "      <td>en</td>\n",
       "      <td>female</td>\n",
       "    </tr>\n",
       "    <tr>\n",
       "      <th>5</th>\n",
       "      <td>5fe2b6f3ad416a1265c4ab68</td>\n",
       "      <td>2020-12-23 03:18:11+00:00</td>\n",
       "      <td>1999-10-27 04:00:00</td>\n",
       "      <td>NY</td>\n",
       "      <td>en</td>\n",
       "      <td>female</td>\n",
       "    </tr>\n",
       "  </tbody>\n",
       "</table>\n",
       "</div>"
      ],
      "text/plain": [
       "                         ID              CREATED_DATE          BIRTH_DATE  \\\n",
       "0  5ef3b4f17053ab141787697d 2020-06-24 20:17:54+00:00 2000-08-11 00:00:00   \n",
       "1  5ff220d383fcfc12622b96bc 2021-01-03 19:53:55+00:00 2001-09-24 04:00:00   \n",
       "2  6477950aa55bb77a0e27ee10 2023-05-31 18:42:18+00:00 1994-10-28 00:00:00   \n",
       "4  653cf5d6a225ea102b7ecdc2 2023-10-28 11:51:50+00:00 1972-03-19 00:00:00   \n",
       "5  5fe2b6f3ad416a1265c4ab68 2020-12-23 03:18:11+00:00 1999-10-27 04:00:00   \n",
       "\n",
       "  STATE LANGUAGE  GENDER  \n",
       "0    CA   es-419  female  \n",
       "1    PA       en  female  \n",
       "2    FL   es-419  female  \n",
       "4    PA       en  female  \n",
       "5    NY       en  female  "
      ]
     },
     "execution_count": 31,
     "metadata": {},
     "output_type": "execute_result"
    }
   ],
   "source": [
    "users_df.head()"
   ]
  },
  {
   "cell_type": "code",
   "execution_count": 32,
   "id": "50bc974f",
   "metadata": {},
   "outputs": [],
   "source": [
    "# Converting the 'CREATED_DATE' column to datetime format\n",
    "# 'errors=\"coerce\"' ensures that any invalid values are turned into NaT (Not a Time) instead of causing errors\n",
    "users_df['CREATED_DATE'] = pd.to_datetime(users_df['CREATED_DATE'], errors='coerce')\n",
    "\n",
    "\n",
    "# Formating 'CREATED_DATE' to keep only the date in 'YYYY-MM-DD' format, and also removed the time component\n",
    "users_df['CREATED_DATE'] = users_df['CREATED_DATE'].dt.strftime('%Y-%m-%d')  "
   ]
  },
  {
   "cell_type": "code",
   "execution_count": 33,
   "id": "b1dc2720",
   "metadata": {},
   "outputs": [],
   "source": [
    "# Converting the 'BIRTH_DATE' column to datetime format\n",
    "# This ensures that the column is properly recognized as a date, and any errors are handled gracefully\n",
    "users_df['BIRTH_DATE'] = pd.to_datetime(users_df['BIRTH_DATE'], errors='coerce')\n",
    "\n",
    "\n",
    "# Format 'BIRTH_DATE' to keep only the date in 'YYYY-MM-DD' format, and also removed the time component\n",
    "users_df['BIRTH_DATE'] = users_df['BIRTH_DATE'].dt.strftime('%Y-%m-%d')  "
   ]
  },
  {
   "cell_type": "code",
   "execution_count": 34,
   "id": "ca30e248",
   "metadata": {
    "scrolled": false
   },
   "outputs": [
    {
     "data": {
      "text/html": [
       "<div>\n",
       "<style scoped>\n",
       "    .dataframe tbody tr th:only-of-type {\n",
       "        vertical-align: middle;\n",
       "    }\n",
       "\n",
       "    .dataframe tbody tr th {\n",
       "        vertical-align: top;\n",
       "    }\n",
       "\n",
       "    .dataframe thead th {\n",
       "        text-align: right;\n",
       "    }\n",
       "</style>\n",
       "<table border=\"1\" class=\"dataframe\">\n",
       "  <thead>\n",
       "    <tr style=\"text-align: right;\">\n",
       "      <th></th>\n",
       "      <th>ID</th>\n",
       "      <th>CREATED_DATE</th>\n",
       "      <th>BIRTH_DATE</th>\n",
       "      <th>STATE</th>\n",
       "      <th>LANGUAGE</th>\n",
       "      <th>GENDER</th>\n",
       "    </tr>\n",
       "  </thead>\n",
       "  <tbody>\n",
       "    <tr>\n",
       "      <th>0</th>\n",
       "      <td>5ef3b4f17053ab141787697d</td>\n",
       "      <td>2020-06-24</td>\n",
       "      <td>2000-08-11</td>\n",
       "      <td>CA</td>\n",
       "      <td>es-419</td>\n",
       "      <td>female</td>\n",
       "    </tr>\n",
       "    <tr>\n",
       "      <th>1</th>\n",
       "      <td>5ff220d383fcfc12622b96bc</td>\n",
       "      <td>2021-01-03</td>\n",
       "      <td>2001-09-24</td>\n",
       "      <td>PA</td>\n",
       "      <td>en</td>\n",
       "      <td>female</td>\n",
       "    </tr>\n",
       "    <tr>\n",
       "      <th>2</th>\n",
       "      <td>6477950aa55bb77a0e27ee10</td>\n",
       "      <td>2023-05-31</td>\n",
       "      <td>1994-10-28</td>\n",
       "      <td>FL</td>\n",
       "      <td>es-419</td>\n",
       "      <td>female</td>\n",
       "    </tr>\n",
       "    <tr>\n",
       "      <th>4</th>\n",
       "      <td>653cf5d6a225ea102b7ecdc2</td>\n",
       "      <td>2023-10-28</td>\n",
       "      <td>1972-03-19</td>\n",
       "      <td>PA</td>\n",
       "      <td>en</td>\n",
       "      <td>female</td>\n",
       "    </tr>\n",
       "    <tr>\n",
       "      <th>5</th>\n",
       "      <td>5fe2b6f3ad416a1265c4ab68</td>\n",
       "      <td>2020-12-23</td>\n",
       "      <td>1999-10-27</td>\n",
       "      <td>NY</td>\n",
       "      <td>en</td>\n",
       "      <td>female</td>\n",
       "    </tr>\n",
       "  </tbody>\n",
       "</table>\n",
       "</div>"
      ],
      "text/plain": [
       "                         ID CREATED_DATE  BIRTH_DATE STATE LANGUAGE  GENDER\n",
       "0  5ef3b4f17053ab141787697d   2020-06-24  2000-08-11    CA   es-419  female\n",
       "1  5ff220d383fcfc12622b96bc   2021-01-03  2001-09-24    PA       en  female\n",
       "2  6477950aa55bb77a0e27ee10   2023-05-31  1994-10-28    FL   es-419  female\n",
       "4  653cf5d6a225ea102b7ecdc2   2023-10-28  1972-03-19    PA       en  female\n",
       "5  5fe2b6f3ad416a1265c4ab68   2020-12-23  1999-10-27    NY       en  female"
      ]
     },
     "execution_count": 34,
     "metadata": {},
     "output_type": "execute_result"
    }
   ],
   "source": [
    "users_df.head()"
   ]
  },
  {
   "cell_type": "markdown",
   "id": "68f0730f",
   "metadata": {},
   "source": [
    "### Mapping the LANGUAGE column"
   ]
  },
  {
   "cell_type": "code",
   "execution_count": 161,
   "id": "a65f361f",
   "metadata": {},
   "outputs": [],
   "source": [
    "#Mapping the language\n",
    "language_mapping = {\n",
    "    'en': 'English',\n",
    "    'es-419': 'Spanish',\n",
    "    'nan': 'Unknown'\n",
    "}"
   ]
  },
  {
   "cell_type": "code",
   "execution_count": 162,
   "id": "31a96643",
   "metadata": {},
   "outputs": [],
   "source": [
    "users_df['LANGUAGE'] = users_df['LANGUAGE'].replace(language_mapping)"
   ]
  },
  {
   "cell_type": "code",
   "execution_count": 163,
   "id": "07ddee94",
   "metadata": {},
   "outputs": [
    {
     "data": {
      "text/plain": [
       "array(['Spanish', 'English'], dtype=object)"
      ]
     },
     "execution_count": 163,
     "metadata": {},
     "output_type": "execute_result"
    }
   ],
   "source": [
    "unique_languages_updated = users_df['LANGUAGE'].unique() #Checking the unique LANGUAGES\n",
    "unique_languages_updated"
   ]
  },
  {
   "cell_type": "markdown",
   "id": "7a99bfa1",
   "metadata": {},
   "source": [
    "### Users by preferred language"
   ]
  },
  {
   "cell_type": "code",
   "execution_count": 167,
   "id": "08963b7a",
   "metadata": {},
   "outputs": [
    {
     "data": {
      "image/png": "[encoded data removed]",
      "text/plain": [
       "<Figure size 800x300 with 1 Axes>"
      ]
     },
     "metadata": {},
     "output_type": "display_data"
    }
   ],
   "source": [
    "# Language distribution\n",
    "language_counts = users_df['LANGUAGE'].value_counts()\n",
    "\n",
    "# Plot bar chart\n",
    "plt.figure(figsize=(8, 3))\n",
    "sns.barplot(x=language_counts.values, y=language_counts.index, palette=\"magma\")\n",
    "plt.xlabel(\"User Count\")\n",
    "plt.ylabel(\"Language\")\n",
    "plt.title(\"Language Distribution\")\n",
    "plt.show()"
   ]
  },
  {
   "cell_type": "code",
   "execution_count": 38,
   "id": "dba1c501",
   "metadata": {},
   "outputs": [],
   "source": [
    "users_df.to_csv(\"USERS_clean.csv\", index = False)"
   ]
  },
  {
   "cell_type": "code",
   "execution_count": null,
   "id": "789e3e7a",
   "metadata": {},
   "outputs": [],
   "source": []
  },
  {
   "cell_type": "markdown",
   "id": "3a724786",
   "metadata": {},
   "source": [
    "# 1. Are there any data quality issues present?"
   ]
  },
  {
   "cell_type": "markdown",
   "id": "c3784729",
   "metadata": {},
   "source": [
    "### 1. Missing Values in Key Fields\n",
    "Some important fields, such as BIRTH_DATE, STATE, LANGUAGE, and GENDER, had missing values. This could cause gaps in analysis, especially when segmenting users by age, location, or demographics.\n",
    "\n",
    "#### Fix:\n",
    "\n",
    "- For STATE, I replaced missing values with ‘Unknown’ so that location-based reports wouldn’t have gaps.\n",
    "- For LANGUAGE, I filled missing values with ‘English’, assuming it’s the default language.\n",
    "- For GENDER, I standardized categories and replaced missing values with ‘Not specified’ to keep things consistent.\n",
    "- For BIRTH_DATE, I left missing values as they are since filling them with a default date wouldn’t be accurate.\n",
    "\n",
    "### 2. Invalid BIRTH_DATE Values (Future Dates)\n",
    "A few users had birth dates in the future, which is obviously incorrect. This might have been due to data entry errors or system-generated placeholder dates.\n",
    "\n",
    "#### Fix:\n",
    "\n",
    "I identified and removed all users whose birth dates were after today’s date to prevent inaccurate age-based analysis.\n",
    "\n",
    "### 3. Inconsistent GENDER Values\n",
    "The GENDER column had multiple variations of the same categories, such as:\n",
    "\n",
    "- non_binary vs Non-Binary (case differences)\n",
    "- Prefer not to say vs prefer_not_to_say (format inconsistencies)\n",
    "- \"My gender isn't listed\" as a full phrase, which was overly descriptive\n",
    "\n",
    "#### Fix:\n",
    "\n",
    "- I converted all values to lowercase and replaced spaces with underscores (_) for consistency.\n",
    "- Similar responses were merged into a single category (e.g., \"not_specified\", \"unknown\", and \"not_listed\" were grouped as \"Not specified\").\n",
    "\n",
    "\n",
    "### 4. Unclear LANGUAGE Codes\n",
    "The LANGUAGE column used language codes (en, es-419) instead of full names, which might be confusing for non-technical users.\n",
    "\n",
    "#### Fix:\n",
    "\n",
    "I replaced en with \"English\" and es-419 with \"Spanish (Latin America)\" to make the dataset more readable.\n",
    "\n",
    "\n",
    "### 5. Standardizing STATE Values\n",
    "Most state values were correct, but some were missing (nan).\n",
    "\n",
    "#### Fix:\n",
    "\n",
    "I replaced missing state values with \"Unknown\" to avoid empty fields in location-based analysis.\n",
    "\n",
    "\n",
    "### 6. Incorrect Datatypes\n",
    "- Both CREATED_DATE and BIRTH_DATE were stored as text (object) instead of actual datetime format.\n",
    "- This will make difficult to perform date-based operations, such as calculating account age or filtering users by birth year.\n",
    "\n",
    "#### Fix:\n",
    "I converted both columns into proper datetime format, to ensure all valid dates are properly recognized."
   ]
  },
  {
   "cell_type": "markdown",
   "id": "917a5de0",
   "metadata": {},
   "source": [
    "# 2. Are there any fields that are challenging to understand?\n"
   ]
  },
  {
   "cell_type": "markdown",
   "id": "e6d5c8c2",
   "metadata": {},
   "source": [
    "Yes, while working with the Users dataset, I came across a few fields that were a bit tricky to interpret or had inconsistencies that needed cleaning. Here’s what I found and what I did to fix them:\n",
    "\n",
    "### 1. BIRTH_DATE (Date of Birth)\n",
    "- The BIRTH_DATE column originally had timestamps (YYYY-MM-DD HH:MM:SS.000 Z), which weren’t necessary.\n",
    "- There were also missing values, which could affect any age-related analysis.\n",
    "\n",
    "#### Fix:\n",
    "I cleaned this by removing the timestamp and keeping only the date (YYYY-MM-DD). For missing values, I dropped the rows because there are only 3,675 missing rows in 100,000 rows, impact on analysis is minimal and does not significantly affect the overall insights.\n",
    "\n",
    "\n",
    "### 2. CREATED_DATE (Account Creation Date)\n",
    "- Similar to BIRTH_DATE, this field had extra timestamps (HH:MM:SS.000 Z).\n",
    "- The format was not consistent, which could make date-based analysis harder.\n",
    "\n",
    "#### Fix: \n",
    "I formatted CREATED_DATE to only keep the date (YYYY-MM-DD). This makes it cleaner and easier to work with.\n",
    "\n",
    "\n",
    "### 3. STATE (User's Location - State Code)\n",
    "- Some entries were missing (nan), which could create gaps in location-based analysis.\n",
    "\n",
    "#### Fix: \n",
    "I replaced all missing values with ‘Unknown’ to ensure completeness while keeping the dataset consistent and usable.\n",
    "\n",
    "\n",
    "### 4. LANGUAGE (User’s Preferred Language)\n",
    "- The dataset used language codes instead of full names (en for English, es-419 for Spanish - Latin America).\n",
    "- While this is fine for technical work, it might be confusing for business users.\n",
    "#### Fix: \n",
    "I replaced en with \"English\" and es-419 with \"Spanish\" so that it’s more readable.\n",
    "\n",
    "\n",
    "### 5. GENDER (User’s Gender)\n",
    "- There were inconsistencies in formatting (Non-Binary vs non_binary), along with multiple ways of saying the same thing (Prefer not to say, not_specified, unknown).\n",
    "- Some values were overly descriptive, like \"My gender isn't listed\", which seemed unnecessary.\n",
    "- There were also missing values, which could be a problem if gender analysis is needed.\n",
    "\n",
    "#### Fix: \n",
    "I standardized gender values by converting them to lowercase and replacing spaces with underscores (_). Then, I grouped similar categories together (e.g., \"unknown\", \"not_specified\", and \"not_listed\" -> \"not specified\"). For missing values, I filled them with \"not specified\" to maintain consistency."
   ]
  },
  {
   "cell_type": "code",
   "execution_count": null,
   "id": "98c7e7f4",
   "metadata": {},
   "outputs": [],
   "source": []
  },
  {
   "cell_type": "code",
   "execution_count": null,
   "id": "2d65ce69",
   "metadata": {},
   "outputs": [],
   "source": []
  },
  {
   "cell_type": "markdown",
   "id": "9749af0d",
   "metadata": {},
   "source": [
    "# Transactions Dataset"
   ]
  },
  {
   "cell_type": "code",
   "execution_count": 39,
   "id": "0a26cdce",
   "metadata": {},
   "outputs": [],
   "source": [
    "transactions_df = pd.read_csv(\"/Users/akhilnashaboina/Documents/Fetch/Data Sets/TRANSACTION_TAKEHOME.csv\") # Loading the dataset"
   ]
  },
  {
   "cell_type": "code",
   "execution_count": 40,
   "id": "73a2c5fe",
   "metadata": {},
   "outputs": [
    {
     "data": {
      "text/html": [
       "<div>\n",
       "<style scoped>\n",
       "    .dataframe tbody tr th:only-of-type {\n",
       "        vertical-align: middle;\n",
       "    }\n",
       "\n",
       "    .dataframe tbody tr th {\n",
       "        vertical-align: top;\n",
       "    }\n",
       "\n",
       "    .dataframe thead th {\n",
       "        text-align: right;\n",
       "    }\n",
       "</style>\n",
       "<table border=\"1\" class=\"dataframe\">\n",
       "  <thead>\n",
       "    <tr style=\"text-align: right;\">\n",
       "      <th></th>\n",
       "      <th>RECEIPT_ID</th>\n",
       "      <th>PURCHASE_DATE</th>\n",
       "      <th>SCAN_DATE</th>\n",
       "      <th>STORE_NAME</th>\n",
       "      <th>USER_ID</th>\n",
       "      <th>BARCODE</th>\n",
       "      <th>FINAL_QUANTITY</th>\n",
       "      <th>FINAL_SALE</th>\n",
       "    </tr>\n",
       "  </thead>\n",
       "  <tbody>\n",
       "    <tr>\n",
       "      <th>0</th>\n",
       "      <td>0000d256-4041-4a3e-adc4-5623fb6e0c99</td>\n",
       "      <td>2024-08-21</td>\n",
       "      <td>2024-08-21 14:19:06.539 Z</td>\n",
       "      <td>WALMART</td>\n",
       "      <td>63b73a7f3d310dceeabd4758</td>\n",
       "      <td>1.530001e+10</td>\n",
       "      <td>1.00</td>\n",
       "      <td></td>\n",
       "    </tr>\n",
       "    <tr>\n",
       "      <th>1</th>\n",
       "      <td>0001455d-7a92-4a7b-a1d2-c747af1c8fd3</td>\n",
       "      <td>2024-07-20</td>\n",
       "      <td>2024-07-20 09:50:24.206 Z</td>\n",
       "      <td>ALDI</td>\n",
       "      <td>62c08877baa38d1a1f6c211a</td>\n",
       "      <td>NaN</td>\n",
       "      <td>zero</td>\n",
       "      <td>1.49</td>\n",
       "    </tr>\n",
       "    <tr>\n",
       "      <th>2</th>\n",
       "      <td>00017e0a-7851-42fb-bfab-0baa96e23586</td>\n",
       "      <td>2024-08-18</td>\n",
       "      <td>2024-08-19 15:38:56.813 Z</td>\n",
       "      <td>WALMART</td>\n",
       "      <td>60842f207ac8b7729e472020</td>\n",
       "      <td>7.874223e+10</td>\n",
       "      <td>1.00</td>\n",
       "      <td></td>\n",
       "    </tr>\n",
       "    <tr>\n",
       "      <th>3</th>\n",
       "      <td>000239aa-3478-453d-801e-66a82e39c8af</td>\n",
       "      <td>2024-06-18</td>\n",
       "      <td>2024-06-19 11:03:37.468 Z</td>\n",
       "      <td>FOOD LION</td>\n",
       "      <td>63fcd7cea4f8442c3386b589</td>\n",
       "      <td>7.833997e+11</td>\n",
       "      <td>zero</td>\n",
       "      <td>3.49</td>\n",
       "    </tr>\n",
       "    <tr>\n",
       "      <th>4</th>\n",
       "      <td>00026b4c-dfe8-49dd-b026-4c2f0fd5c6a1</td>\n",
       "      <td>2024-07-04</td>\n",
       "      <td>2024-07-05 15:56:43.549 Z</td>\n",
       "      <td>RANDALLS</td>\n",
       "      <td>6193231ae9b3d75037b0f928</td>\n",
       "      <td>4.790050e+10</td>\n",
       "      <td>1.00</td>\n",
       "      <td></td>\n",
       "    </tr>\n",
       "  </tbody>\n",
       "</table>\n",
       "</div>"
      ],
      "text/plain": [
       "                             RECEIPT_ID PURCHASE_DATE  \\\n",
       "0  0000d256-4041-4a3e-adc4-5623fb6e0c99    2024-08-21   \n",
       "1  0001455d-7a92-4a7b-a1d2-c747af1c8fd3    2024-07-20   \n",
       "2  00017e0a-7851-42fb-bfab-0baa96e23586    2024-08-18   \n",
       "3  000239aa-3478-453d-801e-66a82e39c8af    2024-06-18   \n",
       "4  00026b4c-dfe8-49dd-b026-4c2f0fd5c6a1    2024-07-04   \n",
       "\n",
       "                   SCAN_DATE STORE_NAME                   USER_ID  \\\n",
       "0  2024-08-21 14:19:06.539 Z    WALMART  63b73a7f3d310dceeabd4758   \n",
       "1  2024-07-20 09:50:24.206 Z       ALDI  62c08877baa38d1a1f6c211a   \n",
       "2  2024-08-19 15:38:56.813 Z    WALMART  60842f207ac8b7729e472020   \n",
       "3  2024-06-19 11:03:37.468 Z  FOOD LION  63fcd7cea4f8442c3386b589   \n",
       "4  2024-07-05 15:56:43.549 Z   RANDALLS  6193231ae9b3d75037b0f928   \n",
       "\n",
       "        BARCODE FINAL_QUANTITY FINAL_SALE  \n",
       "0  1.530001e+10           1.00             \n",
       "1           NaN           zero       1.49  \n",
       "2  7.874223e+10           1.00             \n",
       "3  7.833997e+11           zero       3.49  \n",
       "4  4.790050e+10           1.00             "
      ]
     },
     "execution_count": 40,
     "metadata": {},
     "output_type": "execute_result"
    }
   ],
   "source": [
    "transactions_df.head() # Displaying the first 5 rows"
   ]
  },
  {
   "cell_type": "code",
   "execution_count": 41,
   "id": "6850fa3e",
   "metadata": {},
   "outputs": [
    {
     "data": {
      "text/plain": [
       "(50000, 8)"
      ]
     },
     "execution_count": 41,
     "metadata": {},
     "output_type": "execute_result"
    }
   ],
   "source": [
    "transactions_df.shape # Checking total rows and columns"
   ]
  },
  {
   "cell_type": "markdown",
   "id": "9e87591b",
   "metadata": {},
   "source": [
    "### Checking Basic Information"
   ]
  },
  {
   "cell_type": "code",
   "execution_count": 42,
   "id": "1f13b4c6",
   "metadata": {
    "scrolled": true
   },
   "outputs": [
    {
     "name": "stdout",
     "output_type": "stream",
     "text": [
      "<class 'pandas.core.frame.DataFrame'>\n",
      "RangeIndex: 50000 entries, 0 to 49999\n",
      "Data columns (total 8 columns):\n",
      " #   Column          Non-Null Count  Dtype  \n",
      "---  ------          --------------  -----  \n",
      " 0   RECEIPT_ID      50000 non-null  object \n",
      " 1   PURCHASE_DATE   50000 non-null  object \n",
      " 2   SCAN_DATE       50000 non-null  object \n",
      " 3   STORE_NAME      50000 non-null  object \n",
      " 4   USER_ID         50000 non-null  object \n",
      " 5   BARCODE         44238 non-null  float64\n",
      " 6   FINAL_QUANTITY  50000 non-null  object \n",
      " 7   FINAL_SALE      50000 non-null  object \n",
      "dtypes: float64(1), object(7)\n",
      "memory usage: 3.1+ MB\n"
     ]
    }
   ],
   "source": [
    "transactions_df.info() # Checking dataset information"
   ]
  },
  {
   "cell_type": "markdown",
   "id": "3e3be062",
   "metadata": {},
   "source": [
    "### Checking for Missing values "
   ]
  },
  {
   "cell_type": "code",
   "execution_count": 43,
   "id": "488b85ae",
   "metadata": {},
   "outputs": [
    {
     "data": {
      "text/plain": [
       "RECEIPT_ID           0\n",
       "PURCHASE_DATE        0\n",
       "SCAN_DATE            0\n",
       "STORE_NAME           0\n",
       "USER_ID              0\n",
       "BARCODE           5762\n",
       "FINAL_QUANTITY       0\n",
       "FINAL_SALE           0\n",
       "dtype: int64"
      ]
     },
     "execution_count": 43,
     "metadata": {},
     "output_type": "execute_result"
    }
   ],
   "source": [
    "transactions_df.isnull().sum()"
   ]
  },
  {
   "cell_type": "markdown",
   "id": "e9a250a5",
   "metadata": {},
   "source": [
    "### Handling Missing values in BARCODE column"
   ]
  },
  {
   "cell_type": "code",
   "execution_count": 44,
   "id": "fabd1e23",
   "metadata": {},
   "outputs": [],
   "source": [
    "transactions_df = transactions_df.dropna(subset = ['BARCODE']) # Droping rows where BARCODE is missing"
   ]
  },
  {
   "cell_type": "code",
   "execution_count": 45,
   "id": "fbe645fe",
   "metadata": {},
   "outputs": [
    {
     "data": {
      "text/plain": [
       "RECEIPT_ID        0\n",
       "PURCHASE_DATE     0\n",
       "SCAN_DATE         0\n",
       "STORE_NAME        0\n",
       "USER_ID           0\n",
       "BARCODE           0\n",
       "FINAL_QUANTITY    0\n",
       "FINAL_SALE        0\n",
       "dtype: int64"
      ]
     },
     "execution_count": 45,
     "metadata": {},
     "output_type": "execute_result"
    }
   ],
   "source": [
    "transactions_df.isnull().sum()"
   ]
  },
  {
   "cell_type": "code",
   "execution_count": 46,
   "id": "f3b6a7b9",
   "metadata": {
    "scrolled": true
   },
   "outputs": [
    {
     "data": {
      "text/plain": [
       "RECEIPT_ID         object\n",
       "PURCHASE_DATE      object\n",
       "SCAN_DATE          object\n",
       "STORE_NAME         object\n",
       "USER_ID            object\n",
       "BARCODE           float64\n",
       "FINAL_QUANTITY     object\n",
       "FINAL_SALE         object\n",
       "dtype: object"
      ]
     },
     "execution_count": 46,
     "metadata": {},
     "output_type": "execute_result"
    }
   ],
   "source": [
    "transactions_df.dtypes # Checking datatypes"
   ]
  },
  {
   "cell_type": "markdown",
   "id": "911e19db",
   "metadata": {},
   "source": [
    "### Vizualization of Users by State"
   ]
  },
  {
   "cell_type": "code",
   "execution_count": 174,
   "id": "702b26cc",
   "metadata": {},
   "outputs": [
    {
     "data": {
      "image/png": "[encoded data removed]",
      "text/plain": [
       "<Figure size 800x400 with 1 Axes>"
      ]
     },
     "metadata": {},
     "output_type": "display_data"
    }
   ],
   "source": [
    "state_counts = users_df[\"STATE\"].value_counts().head(10)  # Top 10 states\n",
    "\n",
    "# Bar chart\n",
    "plt.figure(figsize=(8,4))\n",
    "sns.barplot(x=state_counts.index, y=state_counts.values)\n",
    "plt.xlabel(\"State\")\n",
    "plt.ylabel(\"Number of Users\")\n",
    "plt.title(\"Top 10 States by User Count\")\n",
    "plt.show()"
   ]
  },
  {
   "cell_type": "markdown",
   "id": "aefadc82",
   "metadata": {},
   "source": [
    "### Handling Incorrect Datatypes"
   ]
  },
  {
   "cell_type": "code",
   "execution_count": 47,
   "id": "e928d541",
   "metadata": {},
   "outputs": [],
   "source": [
    "# Converting PURCHASE_DATE and SCAN_DATE to datetime format\n",
    "\n",
    "transactions_df['PURCHASE_DATE'] = pd.to_datetime(transactions_df['PURCHASE_DATE'])\n",
    "\n",
    "transactions_df[\"SCAN_DATE\"] = pd.to_datetime(transactions_df[\"SCAN_DATE\"])\n",
    "\n",
    "# Extracting only the date part\n",
    "transactions_df[\"SCAN_DATE\"] = transactions_df[\"SCAN_DATE\"].dt.date"
   ]
  },
  {
   "cell_type": "code",
   "execution_count": 48,
   "id": "5e835abb",
   "metadata": {},
   "outputs": [
    {
     "data": {
      "text/plain": [
       "RECEIPT_ID                object\n",
       "PURCHASE_DATE     datetime64[ns]\n",
       "SCAN_DATE                 object\n",
       "STORE_NAME                object\n",
       "USER_ID                   object\n",
       "BARCODE                  float64\n",
       "FINAL_QUANTITY            object\n",
       "FINAL_SALE                object\n",
       "dtype: object"
      ]
     },
     "execution_count": 48,
     "metadata": {},
     "output_type": "execute_result"
    }
   ],
   "source": [
    "transactions_df.dtypes # Checking datatypes"
   ]
  },
  {
   "cell_type": "code",
   "execution_count": 49,
   "id": "9b0bb7ff",
   "metadata": {},
   "outputs": [],
   "source": [
    "# Converting BARCODE column to string (removing decimals)\n",
    "transactions_df['BARCODE'] = transactions_df['BARCODE'].astype(str).str.replace('.0', '', regex=False)"
   ]
  },
  {
   "cell_type": "code",
   "execution_count": 50,
   "id": "b8e2eb29",
   "metadata": {
    "scrolled": true
   },
   "outputs": [
    {
     "data": {
      "text/plain": [
       "RECEIPT_ID                object\n",
       "PURCHASE_DATE     datetime64[ns]\n",
       "SCAN_DATE                 object\n",
       "STORE_NAME                object\n",
       "USER_ID                   object\n",
       "BARCODE                   object\n",
       "FINAL_QUANTITY            object\n",
       "FINAL_SALE                object\n",
       "dtype: object"
      ]
     },
     "execution_count": 50,
     "metadata": {},
     "output_type": "execute_result"
    }
   ],
   "source": [
    "transactions_df.dtypes # Checking datatypes"
   ]
  },
  {
   "cell_type": "markdown",
   "id": "82b75770",
   "metadata": {},
   "source": [
    "### Handling Inconsistent Values in FINAL_QUANTITY"
   ]
  },
  {
   "cell_type": "code",
   "execution_count": 51,
   "id": "bb6de2eb",
   "metadata": {},
   "outputs": [],
   "source": [
    "# Replacing 'zero' with 0 and converting it to float\n",
    "transactions_df[\"FINAL_QUANTITY\"] = transactions_df[\"FINAL_QUANTITY\"].replace(\"zero\", 0).astype(float)"
   ]
  },
  {
   "cell_type": "code",
   "execution_count": 52,
   "id": "7960170c",
   "metadata": {},
   "outputs": [
    {
     "data": {
      "text/plain": [
       "array([1.00e+00, 0.00e+00, 2.00e+00, 3.00e+00, 4.00e+00, 4.55e+00,\n",
       "       7.00e+00, 1.80e+01, 5.00e+00, 2.17e+00, 2.30e-01, 8.00e+00,\n",
       "       9.00e-02, 2.58e+00, 1.47e+00, 1.60e+01, 6.20e-01, 1.20e+01,\n",
       "       1.40e+00, 5.10e-01, 1.69e+00, 6.00e+00, 2.39e+00, 1.00e+01,\n",
       "       8.60e-01, 1.54e+00, 1.88e+00, 2.93e+00, 2.89e+00, 1.44e+00,\n",
       "       2.75e+00, 2.76e+02, 8.70e-01, 2.10e+00, 3.33e+00, 1.34e+00,\n",
       "       1.13e+00, 8.30e-01, 2.80e-01, 1.50e+00, 9.70e-01, 1.18e+00,\n",
       "       6.22e+00, 1.28e+00, 2.57e+00, 1.07e+00, 2.11e+00, 4.80e-01,\n",
       "       3.11e+00, 1.08e+00, 5.53e+00, 1.89e+00, 1.00e-02, 2.18e+00,\n",
       "       2.25e+00, 1.37e+00, 4.60e-01, 9.00e+00, 3.50e-01, 9.90e-01,\n",
       "       1.80e+00, 3.24e+00, 9.40e-01, 2.04e+00, 3.69e+00, 2.52e+00,\n",
       "       2.27e+00])"
      ]
     },
     "execution_count": 52,
     "metadata": {},
     "output_type": "execute_result"
    }
   ],
   "source": [
    "# Checking unique values to ensure all values are numeric\n",
    "transactions_df[\"FINAL_QUANTITY\"].unique()"
   ]
  },
  {
   "cell_type": "code",
   "execution_count": 53,
   "id": "a89f8877",
   "metadata": {},
   "outputs": [
    {
     "data": {
      "text/html": [
       "<div>\n",
       "<style scoped>\n",
       "    .dataframe tbody tr th:only-of-type {\n",
       "        vertical-align: middle;\n",
       "    }\n",
       "\n",
       "    .dataframe tbody tr th {\n",
       "        vertical-align: top;\n",
       "    }\n",
       "\n",
       "    .dataframe thead th {\n",
       "        text-align: right;\n",
       "    }\n",
       "</style>\n",
       "<table border=\"1\" class=\"dataframe\">\n",
       "  <thead>\n",
       "    <tr style=\"text-align: right;\">\n",
       "      <th></th>\n",
       "      <th>RECEIPT_ID</th>\n",
       "      <th>PURCHASE_DATE</th>\n",
       "      <th>SCAN_DATE</th>\n",
       "      <th>STORE_NAME</th>\n",
       "      <th>USER_ID</th>\n",
       "      <th>BARCODE</th>\n",
       "      <th>FINAL_QUANTITY</th>\n",
       "      <th>FINAL_SALE</th>\n",
       "    </tr>\n",
       "  </thead>\n",
       "  <tbody>\n",
       "    <tr>\n",
       "      <th>0</th>\n",
       "      <td>0000d256-4041-4a3e-adc4-5623fb6e0c99</td>\n",
       "      <td>2024-08-21</td>\n",
       "      <td>2024-08-21</td>\n",
       "      <td>WALMART</td>\n",
       "      <td>63b73a7f3d310dceeabd4758</td>\n",
       "      <td>15300014978</td>\n",
       "      <td>1.0</td>\n",
       "      <td></td>\n",
       "    </tr>\n",
       "    <tr>\n",
       "      <th>2</th>\n",
       "      <td>00017e0a-7851-42fb-bfab-0baa96e23586</td>\n",
       "      <td>2024-08-18</td>\n",
       "      <td>2024-08-19</td>\n",
       "      <td>WALMART</td>\n",
       "      <td>60842f207ac8b7729e472020</td>\n",
       "      <td>78742229751</td>\n",
       "      <td>1.0</td>\n",
       "      <td></td>\n",
       "    </tr>\n",
       "    <tr>\n",
       "      <th>3</th>\n",
       "      <td>000239aa-3478-453d-801e-66a82e39c8af</td>\n",
       "      <td>2024-06-18</td>\n",
       "      <td>2024-06-19</td>\n",
       "      <td>FOOD LION</td>\n",
       "      <td>63fcd7cea4f8442c3386b589</td>\n",
       "      <td>783399746536</td>\n",
       "      <td>0.0</td>\n",
       "      <td>3.49</td>\n",
       "    </tr>\n",
       "    <tr>\n",
       "      <th>4</th>\n",
       "      <td>00026b4c-dfe8-49dd-b026-4c2f0fd5c6a1</td>\n",
       "      <td>2024-07-04</td>\n",
       "      <td>2024-07-05</td>\n",
       "      <td>RANDALLS</td>\n",
       "      <td>6193231ae9b3d75037b0f928</td>\n",
       "      <td>47900501183</td>\n",
       "      <td>1.0</td>\n",
       "      <td></td>\n",
       "    </tr>\n",
       "    <tr>\n",
       "      <th>5</th>\n",
       "      <td>0002d8cd-1701-4cdd-a524-b70402e2dbc0</td>\n",
       "      <td>2024-06-24</td>\n",
       "      <td>2024-06-24</td>\n",
       "      <td>WALMART</td>\n",
       "      <td>5dcc6c510040a012b8e76924</td>\n",
       "      <td>681131411295</td>\n",
       "      <td>0.0</td>\n",
       "      <td>1.46</td>\n",
       "    </tr>\n",
       "  </tbody>\n",
       "</table>\n",
       "</div>"
      ],
      "text/plain": [
       "                             RECEIPT_ID PURCHASE_DATE   SCAN_DATE STORE_NAME  \\\n",
       "0  0000d256-4041-4a3e-adc4-5623fb6e0c99    2024-08-21  2024-08-21    WALMART   \n",
       "2  00017e0a-7851-42fb-bfab-0baa96e23586    2024-08-18  2024-08-19    WALMART   \n",
       "3  000239aa-3478-453d-801e-66a82e39c8af    2024-06-18  2024-06-19  FOOD LION   \n",
       "4  00026b4c-dfe8-49dd-b026-4c2f0fd5c6a1    2024-07-04  2024-07-05   RANDALLS   \n",
       "5  0002d8cd-1701-4cdd-a524-b70402e2dbc0    2024-06-24  2024-06-24    WALMART   \n",
       "\n",
       "                    USER_ID       BARCODE  FINAL_QUANTITY FINAL_SALE  \n",
       "0  63b73a7f3d310dceeabd4758   15300014978             1.0             \n",
       "2  60842f207ac8b7729e472020   78742229751             1.0             \n",
       "3  63fcd7cea4f8442c3386b589  783399746536             0.0       3.49  \n",
       "4  6193231ae9b3d75037b0f928   47900501183             1.0             \n",
       "5  5dcc6c510040a012b8e76924  681131411295             0.0       1.46  "
      ]
     },
     "execution_count": 53,
     "metadata": {},
     "output_type": "execute_result"
    }
   ],
   "source": [
    "transactions_df.head()"
   ]
  },
  {
   "cell_type": "markdown",
   "id": "dd507f08",
   "metadata": {},
   "source": [
    "### Handling Empty Values in FINAL_SALE"
   ]
  },
  {
   "cell_type": "code",
   "execution_count": 54,
   "id": "d32b76fc",
   "metadata": {},
   "outputs": [],
   "source": [
    "# Strip spaces, replacing empty values, and converting to float\n",
    "transactions_df[\"FINAL_SALE\"] = transactions_df[\"FINAL_SALE\"].str.strip().replace({\"\": \"0\"}).astype(float)"
   ]
  },
  {
   "cell_type": "code",
   "execution_count": 55,
   "id": "74f75731",
   "metadata": {},
   "outputs": [
    {
     "data": {
      "text/plain": [
       "dtype('float64')"
      ]
     },
     "execution_count": 55,
     "metadata": {},
     "output_type": "execute_result"
    }
   ],
   "source": [
    "transactions_df[\"FINAL_SALE\"].dtype  # Should now be float"
   ]
  },
  {
   "cell_type": "code",
   "execution_count": 56,
   "id": "137e7c32",
   "metadata": {
    "scrolled": true
   },
   "outputs": [
    {
     "data": {
      "text/plain": [
       "RECEIPT_ID                object\n",
       "PURCHASE_DATE     datetime64[ns]\n",
       "SCAN_DATE                 object\n",
       "STORE_NAME                object\n",
       "USER_ID                   object\n",
       "BARCODE                   object\n",
       "FINAL_QUANTITY           float64\n",
       "FINAL_SALE               float64\n",
       "dtype: object"
      ]
     },
     "execution_count": 56,
     "metadata": {},
     "output_type": "execute_result"
    }
   ],
   "source": [
    "transactions_df.dtypes"
   ]
  },
  {
   "cell_type": "code",
   "execution_count": 57,
   "id": "fea36b74",
   "metadata": {
    "scrolled": false
   },
   "outputs": [
    {
     "data": {
      "text/html": [
       "<div>\n",
       "<style scoped>\n",
       "    .dataframe tbody tr th:only-of-type {\n",
       "        vertical-align: middle;\n",
       "    }\n",
       "\n",
       "    .dataframe tbody tr th {\n",
       "        vertical-align: top;\n",
       "    }\n",
       "\n",
       "    .dataframe thead th {\n",
       "        text-align: right;\n",
       "    }\n",
       "</style>\n",
       "<table border=\"1\" class=\"dataframe\">\n",
       "  <thead>\n",
       "    <tr style=\"text-align: right;\">\n",
       "      <th></th>\n",
       "      <th>RECEIPT_ID</th>\n",
       "      <th>PURCHASE_DATE</th>\n",
       "      <th>SCAN_DATE</th>\n",
       "      <th>STORE_NAME</th>\n",
       "      <th>USER_ID</th>\n",
       "      <th>BARCODE</th>\n",
       "      <th>FINAL_QUANTITY</th>\n",
       "      <th>FINAL_SALE</th>\n",
       "    </tr>\n",
       "  </thead>\n",
       "  <tbody>\n",
       "    <tr>\n",
       "      <th>0</th>\n",
       "      <td>0000d256-4041-4a3e-adc4-5623fb6e0c99</td>\n",
       "      <td>2024-08-21</td>\n",
       "      <td>2024-08-21</td>\n",
       "      <td>WALMART</td>\n",
       "      <td>63b73a7f3d310dceeabd4758</td>\n",
       "      <td>15300014978</td>\n",
       "      <td>1.0</td>\n",
       "      <td>0.00</td>\n",
       "    </tr>\n",
       "    <tr>\n",
       "      <th>2</th>\n",
       "      <td>00017e0a-7851-42fb-bfab-0baa96e23586</td>\n",
       "      <td>2024-08-18</td>\n",
       "      <td>2024-08-19</td>\n",
       "      <td>WALMART</td>\n",
       "      <td>60842f207ac8b7729e472020</td>\n",
       "      <td>78742229751</td>\n",
       "      <td>1.0</td>\n",
       "      <td>0.00</td>\n",
       "    </tr>\n",
       "    <tr>\n",
       "      <th>3</th>\n",
       "      <td>000239aa-3478-453d-801e-66a82e39c8af</td>\n",
       "      <td>2024-06-18</td>\n",
       "      <td>2024-06-19</td>\n",
       "      <td>FOOD LION</td>\n",
       "      <td>63fcd7cea4f8442c3386b589</td>\n",
       "      <td>783399746536</td>\n",
       "      <td>0.0</td>\n",
       "      <td>3.49</td>\n",
       "    </tr>\n",
       "    <tr>\n",
       "      <th>4</th>\n",
       "      <td>00026b4c-dfe8-49dd-b026-4c2f0fd5c6a1</td>\n",
       "      <td>2024-07-04</td>\n",
       "      <td>2024-07-05</td>\n",
       "      <td>RANDALLS</td>\n",
       "      <td>6193231ae9b3d75037b0f928</td>\n",
       "      <td>47900501183</td>\n",
       "      <td>1.0</td>\n",
       "      <td>0.00</td>\n",
       "    </tr>\n",
       "    <tr>\n",
       "      <th>5</th>\n",
       "      <td>0002d8cd-1701-4cdd-a524-b70402e2dbc0</td>\n",
       "      <td>2024-06-24</td>\n",
       "      <td>2024-06-24</td>\n",
       "      <td>WALMART</td>\n",
       "      <td>5dcc6c510040a012b8e76924</td>\n",
       "      <td>681131411295</td>\n",
       "      <td>0.0</td>\n",
       "      <td>1.46</td>\n",
       "    </tr>\n",
       "  </tbody>\n",
       "</table>\n",
       "</div>"
      ],
      "text/plain": [
       "                             RECEIPT_ID PURCHASE_DATE   SCAN_DATE STORE_NAME  \\\n",
       "0  0000d256-4041-4a3e-adc4-5623fb6e0c99    2024-08-21  2024-08-21    WALMART   \n",
       "2  00017e0a-7851-42fb-bfab-0baa96e23586    2024-08-18  2024-08-19    WALMART   \n",
       "3  000239aa-3478-453d-801e-66a82e39c8af    2024-06-18  2024-06-19  FOOD LION   \n",
       "4  00026b4c-dfe8-49dd-b026-4c2f0fd5c6a1    2024-07-04  2024-07-05   RANDALLS   \n",
       "5  0002d8cd-1701-4cdd-a524-b70402e2dbc0    2024-06-24  2024-06-24    WALMART   \n",
       "\n",
       "                    USER_ID       BARCODE  FINAL_QUANTITY  FINAL_SALE  \n",
       "0  63b73a7f3d310dceeabd4758   15300014978             1.0        0.00  \n",
       "2  60842f207ac8b7729e472020   78742229751             1.0        0.00  \n",
       "3  63fcd7cea4f8442c3386b589  783399746536             0.0        3.49  \n",
       "4  6193231ae9b3d75037b0f928   47900501183             1.0        0.00  \n",
       "5  5dcc6c510040a012b8e76924  681131411295             0.0        1.46  "
      ]
     },
     "execution_count": 57,
     "metadata": {},
     "output_type": "execute_result"
    }
   ],
   "source": [
    "transactions_df.head()"
   ]
  },
  {
   "cell_type": "code",
   "execution_count": 58,
   "id": "9f7d5332",
   "metadata": {},
   "outputs": [],
   "source": [
    "transactions_df.to_csv(\"TRANSACTIONS_clean.csv\", index = False)"
   ]
  },
  {
   "cell_type": "markdown",
   "id": "dd62bed5",
   "metadata": {},
   "source": [
    "# 1. Are there any data quality issues present?"
   ]
  },
  {
   "cell_type": "markdown",
   "id": "58920753",
   "metadata": {},
   "source": [
    "### 1. Missing Values in the BARCODE Column\n",
    "Some rows had missing values in the BARCODE column, which could make it difficult to link transactions to products.\n",
    "\n",
    "#### Fix: \n",
    "I dropped rows where the BARCODE was missing to ensure only complete transaction records are used in the analysis.\n",
    "\n",
    "### 2. Incorrect Data Types\n",
    "- PURCHASE_DATE and SCAN_DATE were stored as text instead of proper date formats, making it hard to analyze time-based trends.\n",
    "- BARCODE was a float, which caused rounding issues.\n",
    "\n",
    "#### Fix: \n",
    "I converted PURCHASE_DATE and SCAN_DATE to datetime format and changed BARCODE to a string to avoid data loss.\n",
    "\n",
    "### 3. Inconsistent Values in FINAL_QUANTITY\n",
    "Some rows had \"zero\" stored as text instead of 0.0, which could have caused errors in calculations.\n",
    "\n",
    "#### Fix: \n",
    "I replaced \"zero\" with 0.0 and converted the entire column to float to ensure smooth numerical analysis.\n",
    "\n",
    "### 4. Empty Values in FINAL_SALE\n",
    "The FINAL_SALE column contained empty strings (\"\") instead of proper numerical values, which could affect revenue calculations.\n",
    "\n",
    "#### Fix: \n",
    "I replaced empty strings with 0.0 and converted the column to float, to ensure all transactions have a valid sales amount."
   ]
  },
  {
   "cell_type": "markdown",
   "id": "2f71dd95",
   "metadata": {},
   "source": [
    "# 2. Are there any fields that are challenging to understand?"
   ]
  },
  {
   "cell_type": "markdown",
   "id": "0bb82031",
   "metadata": {},
   "source": [
    "### 1. FINAL_QUANTITY\n",
    "At first, it wasn’t obvious why some values were stored as \"zero\" instead of 0.0. This inconsistency could create confusion when analyzing purchase quantities.\n",
    "\n",
    "#### Fix: \n",
    "I replaced \"zero\" with 0.0 and converted the column to float, making it easier to perform calculations without worrying about text values causing errors.\n",
    "\n",
    "### 2. FINAL_SALE\n",
    "The FINAL_SALE column had empty values, which raised questions about whether they represented missing data, discounts, or unpaid transactions.\n",
    "\n",
    "#### Fix: \n",
    "I assumed that empty values meant $0.00 sales, so I replaced them with 0.0 to ensure accurate revenue calculations. If needed, further clarification from the data provider would be helpful.\n",
    "    \n",
    "### 3. SCAN_DATE vs. PURCHASE_DATE\n",
    "Initially, it wasn’t clear how SCAN_DATE and PURCHASE_DATE were related. Were users scanning receipts immediately after purchase, or was there a delay?\n",
    "\n",
    "#### Fix: \n",
    "I converted both columns to datetime format, which allowed me to check if there were significant gaps between purchase and scan dates. If necessary, deeper analysis could provide insights into user behavior.\n",
    "    \n",
    "### 4. BARCODE\n",
    "The BARCODE column was initially stored as a float, which caused some barcodes to be displayed in scientific notation (like 1.530001e+10). This made it hard to recognize the actual barcode values.\n",
    "\n",
    "#### Fix:\n",
    "I converted BARCODE to a string to prevent formatting issues and ensure it could be used for product lookups."
   ]
  },
  {
   "cell_type": "markdown",
   "id": "086eb0a5",
   "metadata": {},
   "source": [
    "# Products Dataset"
   ]
  },
  {
   "cell_type": "code",
   "execution_count": 59,
   "id": "7f8240ea",
   "metadata": {},
   "outputs": [],
   "source": [
    "products_df = pd.read_csv(\"/Users/akhilnashaboina/Documents/Fetch/Data Sets/PRODUCTS_TAKEHOME.csv\") # Loading the datase"
   ]
  },
  {
   "cell_type": "code",
   "execution_count": 60,
   "id": "da6baed7",
   "metadata": {},
   "outputs": [
    {
     "data": {
      "text/html": [
       "<div>\n",
       "<style scoped>\n",
       "    .dataframe tbody tr th:only-of-type {\n",
       "        vertical-align: middle;\n",
       "    }\n",
       "\n",
       "    .dataframe tbody tr th {\n",
       "        vertical-align: top;\n",
       "    }\n",
       "\n",
       "    .dataframe thead th {\n",
       "        text-align: right;\n",
       "    }\n",
       "</style>\n",
       "<table border=\"1\" class=\"dataframe\">\n",
       "  <thead>\n",
       "    <tr style=\"text-align: right;\">\n",
       "      <th></th>\n",
       "      <th>CATEGORY_1</th>\n",
       "      <th>CATEGORY_2</th>\n",
       "      <th>CATEGORY_3</th>\n",
       "      <th>CATEGORY_4</th>\n",
       "      <th>MANUFACTURER</th>\n",
       "      <th>BRAND</th>\n",
       "      <th>BARCODE</th>\n",
       "    </tr>\n",
       "  </thead>\n",
       "  <tbody>\n",
       "    <tr>\n",
       "      <th>0</th>\n",
       "      <td>Health &amp; Wellness</td>\n",
       "      <td>Sexual Health</td>\n",
       "      <td>Conductivity Gels &amp; Lotions</td>\n",
       "      <td>NaN</td>\n",
       "      <td>NaN</td>\n",
       "      <td>NaN</td>\n",
       "      <td>7.964944e+11</td>\n",
       "    </tr>\n",
       "    <tr>\n",
       "      <th>1</th>\n",
       "      <td>Snacks</td>\n",
       "      <td>Puffed Snacks</td>\n",
       "      <td>Cheese Curls &amp; Puffs</td>\n",
       "      <td>NaN</td>\n",
       "      <td>NaN</td>\n",
       "      <td>NaN</td>\n",
       "      <td>2.327801e+10</td>\n",
       "    </tr>\n",
       "    <tr>\n",
       "      <th>2</th>\n",
       "      <td>Health &amp; Wellness</td>\n",
       "      <td>Hair Care</td>\n",
       "      <td>Hair Care Accessories</td>\n",
       "      <td>NaN</td>\n",
       "      <td>PLACEHOLDER MANUFACTURER</td>\n",
       "      <td>ELECSOP</td>\n",
       "      <td>4.618178e+11</td>\n",
       "    </tr>\n",
       "    <tr>\n",
       "      <th>3</th>\n",
       "      <td>Health &amp; Wellness</td>\n",
       "      <td>Oral Care</td>\n",
       "      <td>Toothpaste</td>\n",
       "      <td>NaN</td>\n",
       "      <td>COLGATE-PALMOLIVE</td>\n",
       "      <td>COLGATE</td>\n",
       "      <td>3.500047e+10</td>\n",
       "    </tr>\n",
       "    <tr>\n",
       "      <th>4</th>\n",
       "      <td>Health &amp; Wellness</td>\n",
       "      <td>Medicines &amp; Treatments</td>\n",
       "      <td>Essential Oils</td>\n",
       "      <td>NaN</td>\n",
       "      <td>MAPLE HOLISTICS AND HONEYDEW PRODUCTS INTERCHA...</td>\n",
       "      <td>MAPLE HOLISTICS</td>\n",
       "      <td>8.068109e+11</td>\n",
       "    </tr>\n",
       "  </tbody>\n",
       "</table>\n",
       "</div>"
      ],
      "text/plain": [
       "          CATEGORY_1              CATEGORY_2                   CATEGORY_3  \\\n",
       "0  Health & Wellness           Sexual Health  Conductivity Gels & Lotions   \n",
       "1             Snacks           Puffed Snacks         Cheese Curls & Puffs   \n",
       "2  Health & Wellness               Hair Care        Hair Care Accessories   \n",
       "3  Health & Wellness               Oral Care                   Toothpaste   \n",
       "4  Health & Wellness  Medicines & Treatments               Essential Oils   \n",
       "\n",
       "  CATEGORY_4                                       MANUFACTURER  \\\n",
       "0        NaN                                                NaN   \n",
       "1        NaN                                                NaN   \n",
       "2        NaN                           PLACEHOLDER MANUFACTURER   \n",
       "3        NaN                                  COLGATE-PALMOLIVE   \n",
       "4        NaN  MAPLE HOLISTICS AND HONEYDEW PRODUCTS INTERCHA...   \n",
       "\n",
       "             BRAND       BARCODE  \n",
       "0              NaN  7.964944e+11  \n",
       "1              NaN  2.327801e+10  \n",
       "2          ELECSOP  4.618178e+11  \n",
       "3          COLGATE  3.500047e+10  \n",
       "4  MAPLE HOLISTICS  8.068109e+11  "
      ]
     },
     "execution_count": 60,
     "metadata": {},
     "output_type": "execute_result"
    }
   ],
   "source": [
    "products_df.head() # Displaying the first 5 rows"
   ]
  },
  {
   "cell_type": "code",
   "execution_count": 61,
   "id": "7ecd66dc",
   "metadata": {},
   "outputs": [],
   "source": [
    "### Checiing Basic Information"
   ]
  },
  {
   "cell_type": "code",
   "execution_count": 62,
   "id": "243d6bb4",
   "metadata": {},
   "outputs": [
    {
     "name": "stdout",
     "output_type": "stream",
     "text": [
      "<class 'pandas.core.frame.DataFrame'>\n",
      "RangeIndex: 845552 entries, 0 to 845551\n",
      "Data columns (total 7 columns):\n",
      " #   Column        Non-Null Count   Dtype  \n",
      "---  ------        --------------   -----  \n",
      " 0   CATEGORY_1    845441 non-null  object \n",
      " 1   CATEGORY_2    844128 non-null  object \n",
      " 2   CATEGORY_3    784986 non-null  object \n",
      " 3   CATEGORY_4    67459 non-null   object \n",
      " 4   MANUFACTURER  619078 non-null  object \n",
      " 5   BRAND         619080 non-null  object \n",
      " 6   BARCODE       841527 non-null  float64\n",
      "dtypes: float64(1), object(6)\n",
      "memory usage: 45.2+ MB\n"
     ]
    }
   ],
   "source": [
    "products_df.info() # Checking dataset information"
   ]
  },
  {
   "cell_type": "code",
   "execution_count": 63,
   "id": "2a2d48cf",
   "metadata": {},
   "outputs": [
    {
     "data": {
      "text/plain": [
       "(845552, 7)"
      ]
     },
     "execution_count": 63,
     "metadata": {},
     "output_type": "execute_result"
    }
   ],
   "source": [
    "products_df.shape"
   ]
  },
  {
   "cell_type": "markdown",
   "id": "bfc5a373",
   "metadata": {},
   "source": [
    "### Checking for Missing values"
   ]
  },
  {
   "cell_type": "code",
   "execution_count": 65,
   "id": "27fd75e8",
   "metadata": {
    "scrolled": true
   },
   "outputs": [
    {
     "data": {
      "text/plain": [
       "CATEGORY_1         111\n",
       "CATEGORY_2        1424\n",
       "CATEGORY_3       60566\n",
       "CATEGORY_4      778093\n",
       "MANUFACTURER    226474\n",
       "BRAND           226472\n",
       "BARCODE           4025\n",
       "dtype: int64"
      ]
     },
     "execution_count": 65,
     "metadata": {},
     "output_type": "execute_result"
    }
   ],
   "source": [
    "products_df.isnull().sum()"
   ]
  },
  {
   "cell_type": "markdown",
   "id": "4f27d602",
   "metadata": {},
   "source": [
    "### Handling missing values"
   ]
  },
  {
   "cell_type": "code",
   "execution_count": 66,
   "id": "39b68258",
   "metadata": {},
   "outputs": [
    {
     "data": {
      "text/plain": [
       "CATEGORY_4      92.021898\n",
       "MANUFACTURER    26.784160\n",
       "BRAND           26.783923\n",
       "CATEGORY_3       7.162895\n",
       "BARCODE          0.476020\n",
       "CATEGORY_2       0.168411\n",
       "CATEGORY_1       0.013128\n",
       "dtype: float64"
      ]
     },
     "execution_count": 66,
     "metadata": {},
     "output_type": "execute_result"
    }
   ],
   "source": [
    "# Check missing values percentage\n",
    "missing_values = products_df.isnull().sum() / len(products_df) * 100\n",
    "missing_values = missing_values[missing_values > 0].sort_values(ascending=False)\n",
    "missing_values"
   ]
  },
  {
   "cell_type": "markdown",
   "id": "42e7d0f1",
   "metadata": {},
   "source": [
    "### Handling CATEGORY_4 (92% missing)"
   ]
  },
  {
   "cell_type": "code",
   "execution_count": 67,
   "id": "45c7f931",
   "metadata": {},
   "outputs": [],
   "source": [
    "products_df.drop(columns=['CATEGORY_4'], inplace=True) # Dropping the CATEGOTY_4 column"
   ]
  },
  {
   "cell_type": "code",
   "execution_count": 68,
   "id": "60d6e98a",
   "metadata": {},
   "outputs": [
    {
     "data": {
      "text/html": [
       "<div>\n",
       "<style scoped>\n",
       "    .dataframe tbody tr th:only-of-type {\n",
       "        vertical-align: middle;\n",
       "    }\n",
       "\n",
       "    .dataframe tbody tr th {\n",
       "        vertical-align: top;\n",
       "    }\n",
       "\n",
       "    .dataframe thead th {\n",
       "        text-align: right;\n",
       "    }\n",
       "</style>\n",
       "<table border=\"1\" class=\"dataframe\">\n",
       "  <thead>\n",
       "    <tr style=\"text-align: right;\">\n",
       "      <th></th>\n",
       "      <th>CATEGORY_1</th>\n",
       "      <th>CATEGORY_2</th>\n",
       "      <th>CATEGORY_3</th>\n",
       "      <th>MANUFACTURER</th>\n",
       "      <th>BRAND</th>\n",
       "      <th>BARCODE</th>\n",
       "    </tr>\n",
       "  </thead>\n",
       "  <tbody>\n",
       "    <tr>\n",
       "      <th>0</th>\n",
       "      <td>Health &amp; Wellness</td>\n",
       "      <td>Sexual Health</td>\n",
       "      <td>Conductivity Gels &amp; Lotions</td>\n",
       "      <td>NaN</td>\n",
       "      <td>NaN</td>\n",
       "      <td>7.964944e+11</td>\n",
       "    </tr>\n",
       "    <tr>\n",
       "      <th>1</th>\n",
       "      <td>Snacks</td>\n",
       "      <td>Puffed Snacks</td>\n",
       "      <td>Cheese Curls &amp; Puffs</td>\n",
       "      <td>NaN</td>\n",
       "      <td>NaN</td>\n",
       "      <td>2.327801e+10</td>\n",
       "    </tr>\n",
       "    <tr>\n",
       "      <th>2</th>\n",
       "      <td>Health &amp; Wellness</td>\n",
       "      <td>Hair Care</td>\n",
       "      <td>Hair Care Accessories</td>\n",
       "      <td>PLACEHOLDER MANUFACTURER</td>\n",
       "      <td>ELECSOP</td>\n",
       "      <td>4.618178e+11</td>\n",
       "    </tr>\n",
       "    <tr>\n",
       "      <th>3</th>\n",
       "      <td>Health &amp; Wellness</td>\n",
       "      <td>Oral Care</td>\n",
       "      <td>Toothpaste</td>\n",
       "      <td>COLGATE-PALMOLIVE</td>\n",
       "      <td>COLGATE</td>\n",
       "      <td>3.500047e+10</td>\n",
       "    </tr>\n",
       "    <tr>\n",
       "      <th>4</th>\n",
       "      <td>Health &amp; Wellness</td>\n",
       "      <td>Medicines &amp; Treatments</td>\n",
       "      <td>Essential Oils</td>\n",
       "      <td>MAPLE HOLISTICS AND HONEYDEW PRODUCTS INTERCHA...</td>\n",
       "      <td>MAPLE HOLISTICS</td>\n",
       "      <td>8.068109e+11</td>\n",
       "    </tr>\n",
       "  </tbody>\n",
       "</table>\n",
       "</div>"
      ],
      "text/plain": [
       "          CATEGORY_1              CATEGORY_2                   CATEGORY_3  \\\n",
       "0  Health & Wellness           Sexual Health  Conductivity Gels & Lotions   \n",
       "1             Snacks           Puffed Snacks         Cheese Curls & Puffs   \n",
       "2  Health & Wellness               Hair Care        Hair Care Accessories   \n",
       "3  Health & Wellness               Oral Care                   Toothpaste   \n",
       "4  Health & Wellness  Medicines & Treatments               Essential Oils   \n",
       "\n",
       "                                        MANUFACTURER            BRAND  \\\n",
       "0                                                NaN              NaN   \n",
       "1                                                NaN              NaN   \n",
       "2                           PLACEHOLDER MANUFACTURER          ELECSOP   \n",
       "3                                  COLGATE-PALMOLIVE          COLGATE   \n",
       "4  MAPLE HOLISTICS AND HONEYDEW PRODUCTS INTERCHA...  MAPLE HOLISTICS   \n",
       "\n",
       "        BARCODE  \n",
       "0  7.964944e+11  \n",
       "1  2.327801e+10  \n",
       "2  4.618178e+11  \n",
       "3  3.500047e+10  \n",
       "4  8.068109e+11  "
      ]
     },
     "execution_count": 68,
     "metadata": {},
     "output_type": "execute_result"
    }
   ],
   "source": [
    "products_df.head()"
   ]
  },
  {
   "cell_type": "markdown",
   "id": "47d1a947",
   "metadata": {},
   "source": [
    "### Handling CATEGORY_3 (7% missing)"
   ]
  },
  {
   "cell_type": "code",
   "execution_count": 69,
   "id": "bb73b3ed",
   "metadata": {},
   "outputs": [],
   "source": [
    "products_df['CATEGORY_3'].fillna('Unknown', inplace=True) # Filling missing values with Unknown"
   ]
  },
  {
   "cell_type": "markdown",
   "id": "6e1189c1",
   "metadata": {},
   "source": [
    "### Handling MANUFACTURER and BRAND (26% missing)"
   ]
  },
  {
   "cell_type": "code",
   "execution_count": 70,
   "id": "e7fdbf47",
   "metadata": {},
   "outputs": [],
   "source": [
    "products_df['MANUFACTURER'].fillna('Unknown', inplace=True) # Filling missing values with Unknown\n",
    "products_df['BRAND'].fillna('Unknown', inplace=True) # Filling missing values with Unknown"
   ]
  },
  {
   "cell_type": "markdown",
   "id": "abf41824",
   "metadata": {},
   "source": [
    "### Handling BARCODE (0.48% missing)"
   ]
  },
  {
   "cell_type": "code",
   "execution_count": 71,
   "id": "d8e29946",
   "metadata": {},
   "outputs": [],
   "source": [
    "products_df.dropna(subset=['BARCODE'], inplace=True) # Dropping the missing values"
   ]
  },
  {
   "cell_type": "code",
   "execution_count": 72,
   "id": "f15d5717",
   "metadata": {},
   "outputs": [
    {
     "data": {
      "text/plain": [
       "CATEGORY_1      111\n",
       "CATEGORY_2      661\n",
       "CATEGORY_3        0\n",
       "MANUFACTURER      0\n",
       "BRAND             0\n",
       "BARCODE           0\n",
       "dtype: int64"
      ]
     },
     "execution_count": 72,
     "metadata": {},
     "output_type": "execute_result"
    }
   ],
   "source": [
    "products_df.isnull().sum()"
   ]
  },
  {
   "cell_type": "markdown",
   "id": "1e5a4df5",
   "metadata": {},
   "source": [
    "### Handling CATEGORY_1 and CATEGORY_2"
   ]
  },
  {
   "cell_type": "code",
   "execution_count": 73,
   "id": "99f34e00",
   "metadata": {},
   "outputs": [],
   "source": [
    "# Filling missing values in CATEGORY_1 and CATEGORY_2 with 'Unknown'\n",
    "products_df['CATEGORY_1'].fillna('Unknown', inplace=True)\n",
    "products_df['CATEGORY_2'].fillna('Unknown', inplace=True)"
   ]
  },
  {
   "cell_type": "code",
   "execution_count": 74,
   "id": "3c5737ae",
   "metadata": {},
   "outputs": [
    {
     "data": {
      "text/plain": [
       "CATEGORY_1      0\n",
       "CATEGORY_2      0\n",
       "CATEGORY_3      0\n",
       "MANUFACTURER    0\n",
       "BRAND           0\n",
       "BARCODE         0\n",
       "dtype: int64"
      ]
     },
     "execution_count": 74,
     "metadata": {},
     "output_type": "execute_result"
    }
   ],
   "source": [
    "products_df.isnull().sum()"
   ]
  },
  {
   "cell_type": "markdown",
   "id": "a945c8f6",
   "metadata": {},
   "source": [
    "### Handling Generic values in MANUFACTURE and BRAND column "
   ]
  },
  {
   "cell_type": "code",
   "execution_count": 75,
   "id": "54b71896",
   "metadata": {},
   "outputs": [],
   "source": [
    "# Replacing placeholder values with 'Unknown' in MANUFACTURER and BRAND\n",
    "\n",
    "products_df['MANUFACTURER'] = products_df['MANUFACTURER'].replace({'PLACEHOLDER MANUFACTURER': 'Unknown'})\n",
    "products_df['BRAND'] = products_df['BRAND'].replace({'PLACEHOLDER BRAND': 'Unknown'})"
   ]
  },
  {
   "cell_type": "code",
   "execution_count": 76,
   "id": "0e02fe65",
   "metadata": {
    "scrolled": true
   },
   "outputs": [
    {
     "data": {
      "text/html": [
       "<div>\n",
       "<style scoped>\n",
       "    .dataframe tbody tr th:only-of-type {\n",
       "        vertical-align: middle;\n",
       "    }\n",
       "\n",
       "    .dataframe tbody tr th {\n",
       "        vertical-align: top;\n",
       "    }\n",
       "\n",
       "    .dataframe thead th {\n",
       "        text-align: right;\n",
       "    }\n",
       "</style>\n",
       "<table border=\"1\" class=\"dataframe\">\n",
       "  <thead>\n",
       "    <tr style=\"text-align: right;\">\n",
       "      <th></th>\n",
       "      <th>CATEGORY_1</th>\n",
       "      <th>CATEGORY_2</th>\n",
       "      <th>CATEGORY_3</th>\n",
       "      <th>MANUFACTURER</th>\n",
       "      <th>BRAND</th>\n",
       "      <th>BARCODE</th>\n",
       "    </tr>\n",
       "  </thead>\n",
       "  <tbody>\n",
       "    <tr>\n",
       "      <th>0</th>\n",
       "      <td>Health &amp; Wellness</td>\n",
       "      <td>Sexual Health</td>\n",
       "      <td>Conductivity Gels &amp; Lotions</td>\n",
       "      <td>Unknown</td>\n",
       "      <td>Unknown</td>\n",
       "      <td>7.964944e+11</td>\n",
       "    </tr>\n",
       "    <tr>\n",
       "      <th>1</th>\n",
       "      <td>Snacks</td>\n",
       "      <td>Puffed Snacks</td>\n",
       "      <td>Cheese Curls &amp; Puffs</td>\n",
       "      <td>Unknown</td>\n",
       "      <td>Unknown</td>\n",
       "      <td>2.327801e+10</td>\n",
       "    </tr>\n",
       "    <tr>\n",
       "      <th>2</th>\n",
       "      <td>Health &amp; Wellness</td>\n",
       "      <td>Hair Care</td>\n",
       "      <td>Hair Care Accessories</td>\n",
       "      <td>Unknown</td>\n",
       "      <td>ELECSOP</td>\n",
       "      <td>4.618178e+11</td>\n",
       "    </tr>\n",
       "    <tr>\n",
       "      <th>3</th>\n",
       "      <td>Health &amp; Wellness</td>\n",
       "      <td>Oral Care</td>\n",
       "      <td>Toothpaste</td>\n",
       "      <td>COLGATE-PALMOLIVE</td>\n",
       "      <td>COLGATE</td>\n",
       "      <td>3.500047e+10</td>\n",
       "    </tr>\n",
       "    <tr>\n",
       "      <th>4</th>\n",
       "      <td>Health &amp; Wellness</td>\n",
       "      <td>Medicines &amp; Treatments</td>\n",
       "      <td>Essential Oils</td>\n",
       "      <td>MAPLE HOLISTICS AND HONEYDEW PRODUCTS INTERCHA...</td>\n",
       "      <td>MAPLE HOLISTICS</td>\n",
       "      <td>8.068109e+11</td>\n",
       "    </tr>\n",
       "  </tbody>\n",
       "</table>\n",
       "</div>"
      ],
      "text/plain": [
       "          CATEGORY_1              CATEGORY_2                   CATEGORY_3  \\\n",
       "0  Health & Wellness           Sexual Health  Conductivity Gels & Lotions   \n",
       "1             Snacks           Puffed Snacks         Cheese Curls & Puffs   \n",
       "2  Health & Wellness               Hair Care        Hair Care Accessories   \n",
       "3  Health & Wellness               Oral Care                   Toothpaste   \n",
       "4  Health & Wellness  Medicines & Treatments               Essential Oils   \n",
       "\n",
       "                                        MANUFACTURER            BRAND  \\\n",
       "0                                            Unknown          Unknown   \n",
       "1                                            Unknown          Unknown   \n",
       "2                                            Unknown          ELECSOP   \n",
       "3                                  COLGATE-PALMOLIVE          COLGATE   \n",
       "4  MAPLE HOLISTICS AND HONEYDEW PRODUCTS INTERCHA...  MAPLE HOLISTICS   \n",
       "\n",
       "        BARCODE  \n",
       "0  7.964944e+11  \n",
       "1  2.327801e+10  \n",
       "2  4.618178e+11  \n",
       "3  3.500047e+10  \n",
       "4  8.068109e+11  "
      ]
     },
     "execution_count": 76,
     "metadata": {},
     "output_type": "execute_result"
    }
   ],
   "source": [
    "products_df.head()"
   ]
  },
  {
   "cell_type": "code",
   "execution_count": 77,
   "id": "d550bcde",
   "metadata": {},
   "outputs": [
    {
     "data": {
      "text/plain": [
       "CATEGORY_1       object\n",
       "CATEGORY_2       object\n",
       "CATEGORY_3       object\n",
       "MANUFACTURER     object\n",
       "BRAND            object\n",
       "BARCODE         float64\n",
       "dtype: object"
      ]
     },
     "execution_count": 77,
     "metadata": {},
     "output_type": "execute_result"
    }
   ],
   "source": [
    "products_df.dtypes # Checking datatypes"
   ]
  },
  {
   "cell_type": "markdown",
   "id": "11c7f7f0",
   "metadata": {},
   "source": [
    "### Handling Datatype Issues"
   ]
  },
  {
   "cell_type": "code",
   "execution_count": 78,
   "id": "c22011ee",
   "metadata": {},
   "outputs": [],
   "source": [
    "# Converting BARCODE column to string (removing decimals)\n",
    "products_df['BARCODE'] = products_df['BARCODE'].astype(str).str.replace('.0', '', regex=False)"
   ]
  },
  {
   "cell_type": "code",
   "execution_count": 79,
   "id": "5e3f99cf",
   "metadata": {},
   "outputs": [
    {
     "data": {
      "text/plain": [
       "CATEGORY_1      object\n",
       "CATEGORY_2      object\n",
       "CATEGORY_3      object\n",
       "MANUFACTURER    object\n",
       "BRAND           object\n",
       "BARCODE         object\n",
       "dtype: object"
      ]
     },
     "execution_count": 79,
     "metadata": {},
     "output_type": "execute_result"
    }
   ],
   "source": [
    "products_df.dtypes # Checking datatypes"
   ]
  },
  {
   "cell_type": "markdown",
   "id": "7f93686c",
   "metadata": {},
   "source": [
    "### Handling Duplicate Rows"
   ]
  },
  {
   "cell_type": "code",
   "execution_count": 80,
   "id": "9cb3a6da",
   "metadata": {},
   "outputs": [
    {
     "data": {
      "text/plain": [
       "159"
      ]
     },
     "execution_count": 80,
     "metadata": {},
     "output_type": "execute_result"
    }
   ],
   "source": [
    "products_df.duplicated().sum() # Checking for duplicate rows"
   ]
  },
  {
   "cell_type": "code",
   "execution_count": 81,
   "id": "b5027420",
   "metadata": {},
   "outputs": [],
   "source": [
    "products_df = products_df.drop_duplicates() # Droping exact duplicate rows"
   ]
  },
  {
   "cell_type": "code",
   "execution_count": 82,
   "id": "c87badd0",
   "metadata": {},
   "outputs": [
    {
     "data": {
      "text/plain": [
       "0"
      ]
     },
     "execution_count": 82,
     "metadata": {},
     "output_type": "execute_result"
    }
   ],
   "source": [
    "products_df.duplicated().sum() # Checking for duplicate rows"
   ]
  },
  {
   "cell_type": "code",
   "execution_count": 83,
   "id": "0b683615",
   "metadata": {},
   "outputs": [],
   "source": [
    "products_df = products_df.applymap(lambda x: x.encode('ascii', 'ignore').decode('ascii') if isinstance(x, str) else x)\n",
    "products_df.to_csv(\"PRODUCTS_clean.csv\", index=False, encoding='utf-8')"
   ]
  },
  {
   "cell_type": "code",
   "execution_count": 84,
   "id": "818a7b26",
   "metadata": {},
   "outputs": [
    {
     "data": {
      "text/html": [
       "<div>\n",
       "<style scoped>\n",
       "    .dataframe tbody tr th:only-of-type {\n",
       "        vertical-align: middle;\n",
       "    }\n",
       "\n",
       "    .dataframe tbody tr th {\n",
       "        vertical-align: top;\n",
       "    }\n",
       "\n",
       "    .dataframe thead th {\n",
       "        text-align: right;\n",
       "    }\n",
       "</style>\n",
       "<table border=\"1\" class=\"dataframe\">\n",
       "  <thead>\n",
       "    <tr style=\"text-align: right;\">\n",
       "      <th></th>\n",
       "      <th>CATEGORY_1</th>\n",
       "      <th>CATEGORY_2</th>\n",
       "      <th>CATEGORY_3</th>\n",
       "      <th>MANUFACTURER</th>\n",
       "      <th>BRAND</th>\n",
       "      <th>BARCODE</th>\n",
       "    </tr>\n",
       "  </thead>\n",
       "  <tbody>\n",
       "    <tr>\n",
       "      <th>0</th>\n",
       "      <td>Health &amp; Wellness</td>\n",
       "      <td>Sexual Health</td>\n",
       "      <td>Conductivity Gels &amp; Lotions</td>\n",
       "      <td>Unknown</td>\n",
       "      <td>Unknown</td>\n",
       "      <td>796494407820</td>\n",
       "    </tr>\n",
       "    <tr>\n",
       "      <th>1</th>\n",
       "      <td>Snacks</td>\n",
       "      <td>Puffed Snacks</td>\n",
       "      <td>Cheese Curls &amp; Puffs</td>\n",
       "      <td>Unknown</td>\n",
       "      <td>Unknown</td>\n",
       "      <td>23278011028</td>\n",
       "    </tr>\n",
       "    <tr>\n",
       "      <th>2</th>\n",
       "      <td>Health &amp; Wellness</td>\n",
       "      <td>Hair Care</td>\n",
       "      <td>Hair Care Accessories</td>\n",
       "      <td>Unknown</td>\n",
       "      <td>ELECSOP</td>\n",
       "      <td>461817824225</td>\n",
       "    </tr>\n",
       "    <tr>\n",
       "      <th>3</th>\n",
       "      <td>Health &amp; Wellness</td>\n",
       "      <td>Oral Care</td>\n",
       "      <td>Toothpaste</td>\n",
       "      <td>COLGATE-PALMOLIVE</td>\n",
       "      <td>COLGATE</td>\n",
       "      <td>35000466815</td>\n",
       "    </tr>\n",
       "    <tr>\n",
       "      <th>4</th>\n",
       "      <td>Health &amp; Wellness</td>\n",
       "      <td>Medicines &amp; Treatments</td>\n",
       "      <td>Essential Oils</td>\n",
       "      <td>MAPLE HOLISTICS AND HONEYDEW PRODUCTS INTERCHA...</td>\n",
       "      <td>MAPLE HOLISTICS</td>\n",
       "      <td>806810850459</td>\n",
       "    </tr>\n",
       "  </tbody>\n",
       "</table>\n",
       "</div>"
      ],
      "text/plain": [
       "          CATEGORY_1              CATEGORY_2                   CATEGORY_3  \\\n",
       "0  Health & Wellness           Sexual Health  Conductivity Gels & Lotions   \n",
       "1             Snacks           Puffed Snacks         Cheese Curls & Puffs   \n",
       "2  Health & Wellness               Hair Care        Hair Care Accessories   \n",
       "3  Health & Wellness               Oral Care                   Toothpaste   \n",
       "4  Health & Wellness  Medicines & Treatments               Essential Oils   \n",
       "\n",
       "                                        MANUFACTURER            BRAND  \\\n",
       "0                                            Unknown          Unknown   \n",
       "1                                            Unknown          Unknown   \n",
       "2                                            Unknown          ELECSOP   \n",
       "3                                  COLGATE-PALMOLIVE          COLGATE   \n",
       "4  MAPLE HOLISTICS AND HONEYDEW PRODUCTS INTERCHA...  MAPLE HOLISTICS   \n",
       "\n",
       "        BARCODE  \n",
       "0  796494407820  \n",
       "1   23278011028  \n",
       "2  461817824225  \n",
       "3   35000466815  \n",
       "4  806810850459  "
      ]
     },
     "execution_count": 84,
     "metadata": {},
     "output_type": "execute_result"
    }
   ],
   "source": [
    "products_df.head()"
   ]
  },
  {
   "cell_type": "markdown",
   "id": "15e4498a",
   "metadata": {},
   "source": [
    "# 1. Are there any data quality issues present?"
   ]
  },
  {
   "cell_type": "markdown",
   "id": "e0105df8",
   "metadata": {},
   "source": [
    "### Missing Data\n",
    "Some fields, like CATEGORY_3, CATEGORY_4, MANUFACTURER, and BRAND, had missing values. CATEGORY_4 was especially problematic with over 92% of its values missing, making it almost unusable. \n",
    "\n",
    "#### Fix:\n",
    "To overcome this, I decided to drop CATEGORY_4 entirely since it wouldn't contribute meaningfully to any analysis. For other fields, I filled missing values with \"Unknown\" to retain as much information as possible while avoiding any bias or incorrect assumptions.\n",
    "\n",
    "### Generic Values\n",
    "In the MANUFACTURER and BRAND columns, I found placeholder values like \"PLACEHOLDER MANUFACTURER\". These generic entries made it difficult to trust the data for meaningful insights. \n",
    "\n",
    "#### Fix:\n",
    "To address this, I replaced all placeholder values with \"Unknown\", to ensure they wouldn't mislead any downstream analysis.\n",
    "\n",
    "### Data Type Issues\n",
    "The BARCODE field was stored as a float, which caused issues like scientific notation and potential rounding errors. \n",
    "\n",
    "#### Fix:\n",
    "Since barcodes are identifiers, I converted them to strings to preserve their integrity and avoid formatting problems.\n",
    "\n",
    "### Duplicates\n",
    "I discovered some duplicate rows, where all fields, including the BARCODE, were identical. \n",
    "\n",
    "#### Fix:\n",
    "To clean this up, I removed exact duplicate rows to ensure the dataset only contained unique products."
   ]
  },
  {
   "cell_type": "markdown",
   "id": "73650ef5",
   "metadata": {},
   "source": [
    "# 2. Are there any fields that are challenging to understand?"
   ]
  },
  {
   "cell_type": "markdown",
   "id": "e967e1f5",
   "metadata": {},
   "source": [
    "### CATEGORY_4\n",
    "This field had over 92% missing values, which made it hard to understand its purpose or relevance. Since the shortage of the data provided it almost unusable, I decided to drop this column altogether. This simplified the dataset and ensured I focused on fields that were more reliable.\n",
    "\n",
    "### BARCODE\n",
    "The BARCODE field was stored as a float, which was challenging to work with because it introduced scientific notation and possible rounding issues. Barcodes are unique identifiers, so I converted this field to a string to preserve its accuracy and make it easier to interpret.\n",
    "\n",
    "### MANUFACTURER and BRAND\n",
    "These fields contained placeholder values like \"PLACEHOLDER MANUFACTURER\", which were difficult to interpret and analyze. To resolve this, I replaced such placeholder entries with \"Unknown\". This ensured the data wouldn’t create misleading conclusions while maintaining consistency.\n",
    "\n",
    "### CATEGORY_1, CATEGORY_2, and CATEGORY_3\n",
    "While these fields were fairly descriptive, their hierarchical nature made it tricky to interpret the relationships between them at first. For instance, CATEGORY_3 had some missing values, which I filled with \"Unknown\" to retain structure without assuming incorrect relationships.\n",
    "\n",
    "### Duplicates\n",
    "Some rows were exact duplicates across all fields. This made it challenging to determine which rows should be retained. I resolved this by removing all exact duplicates, ensuring only unique rows remained in the dataset."
   ]
  },
  {
   "cell_type": "code",
   "execution_count": null,
   "id": "b45ca3d8",
   "metadata": {},
   "outputs": [],
   "source": []
  }
 ],
 "metadata": {
  "kernelspec": {
   "display_name": "Python 3 (ipykernel)",
   "language": "python",
   "name": "python3"
  },
  "language_info": {
   "codemirror_mode": {
    "name": "ipython",
    "version": 3
   },
   "file_extension": ".py",
   "mimetype": "text/x-python",
   "name": "python",
   "nbconvert_exporter": "python",
   "pygments_lexer": "ipython3",
   "version": "3.11.5"
  }
 },
 "nbformat": 4,
 "nbformat_minor": 5
}
